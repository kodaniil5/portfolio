{
  "cells": [
    {
      "cell_type": "markdown",
      "metadata": {
        "id": "viZFXJDAefCM"
      },
      "source": [
        "# Анализ данных об оптовых продажах аудиотехники"
      ],
      "id": "viZFXJDAefCM"
    },
    {
      "cell_type": "markdown",
      "metadata": {
        "id": "E5hA2Oq9efCP"
      },
      "source": [
        "**В данном проекте мне предстоит поработать аналитиком данных в компании «Карпов Саунд», которая занимается оптовой продажей аудиотехники и предлагает широкий ассортимент товаров от ведущих мировых брендов, включающий профессиональные аудиосистемы, домашние кинотеатры, портативные аудиоустройства и прочие аксессуары.**\n",
        "\n",
        "«Карпов Саунд» сотрудничает с крупными розничными сетями и специализированными магазинами аудиотехники в России. Клиенты компании регулярно оставляют заявки на закупку товаров в CRM системе, менеджеры связываются с клиентами, обсуждают детали, после чего заказы либо подтверждаются менеджерами, либо по разным причинам отменяются.\n",
        "\n",
        "В «Карпов Саунд» трепетно относятся к хранению информации о своих товарах, клиентах и заказах, однако в самый неподходящий момент хранилище данных компании оказалось временно недоступно из-за плановых работ по его оптимизации. Поэтому в рамках этого проекта все данные будут представлены не в самом удобном для анализа виде — в формате резервной выгрузки, разложенной по разным папкам на сервере компании.\n",
        "\n",
        "Мне необходимо собрать данные из разрозненных источников, проанализировать их и сделать выводы, которые помогут руководству компании принять верные тактические решения."
      ],
      "id": "E5hA2Oq9efCP"
    },
    {
      "cell_type": "markdown",
      "metadata": {
        "id": "7HWybyqfefCQ"
      },
      "source": [
        "**В ходе работы над проектом вам встретятся следующие таблицы:**  \n",
        "\n",
        "1) orders (данные о заказах):  \n",
        "- order_id — номер заказа  \n",
        "- product_id — идентификатор товара  \n",
        "- quantity — количество этого товара в заказе\n",
        "\n",
        "2) order_status (данные о статусах заказов и клиентах):\n",
        "- order_id — номер заказа  \n",
        "- client_id — идентификатор клиента  \n",
        "- status — статус заказа\n",
        "\n",
        "3) products (данные о товарах):\n",
        "- id — идентификатор товара  \n",
        "- name — имя товара (сначала указан бренд, через запятую модель товара)  \n",
        "- price — цена единицы товара, в долларах"
      ],
      "id": "7HWybyqfefCQ"
    },
    {
      "cell_type": "markdown",
      "metadata": {
        "id": "eClngaSRefCQ"
      },
      "source": [
        "Каждый заказ имеет статус или подтвержденного (`confirmed`), или отмененного (`canceled`). В одном заказе может быть несколько разных товаров. Если заказ был отменен, а потом создан такой же (тем же клиентом, с теми же товарами, у того же менеджера), в базе останется запись о двух заказах с разными номерами и статусами, поскольку система не позволяет создать заказ с тем же номером.\n",
        "\n",
        "Сначала вам нужно собрать и предобработать три типа датасетов: `orders.csv`, `order_status.csv`, `products.csv`."
      ],
      "id": "eClngaSRefCQ"
    },
    {
      "cell_type": "markdown",
      "metadata": {
        "id": "RG5Vn3QoefCQ"
      },
      "source": [
        "На схеме показано, как связаны таблицы между собой:"
      ],
      "id": "RG5Vn3QoefCQ"
    },
    {
      "cell_type": "markdown",
      "metadata": {
        "id": "ehdvhXLlefCQ"
      },
      "source": [
        "![](https://storage.yandexcloud.net/klms-public/production/learning-content/457/4167/37264/104636/497986/er_white.png)"
      ],
      "id": "ehdvhXLlefCQ"
    },
    {
      "cell_type": "markdown",
      "metadata": {
        "id": "gggRkemxefCQ"
      },
      "source": [
        "Данные находятся в папке `data` из директории `shared` (`shared` -> `homeworks` -> `python_ds_miniprojects` -> `final_project`). Внутри папки `data` находятся 2 другие папки: `orders` и `products`.\n",
        "\n",
        "В папке `orders` папки с датами, в которые сделаны записи. В этих папках — папки с именами менеджеров по продажам. Эти папки содержат файлы `orders.csv` и `order_status.csv` (в каждой папке по одной паре файлов). Пример структуры: `data` -> `orders` -> `2024-03-01` -> `Алексей Саксофонов` -> `orders.csv` и `order_status.csv`.\n",
        "\n",
        "В папке `products` папки с категориями товаров. В этих папках файлы `products.csv` (в каждой папке по одному файлу). Пример структуры: `data` -> `products` -> `AV-процессор` -> `products.csv`."
      ],
      "id": "gggRkemxefCQ"
    },
    {
      "cell_type": "markdown",
      "metadata": {
        "id": "LZfky54iefCR"
      },
      "source": [
        "Кроме того у вас есть файл `usd_rate.txt` с курсом доллара США на каждый день анализируемого периода (данные в формате `дата,курс,валюта`). Он потребуется в середине проекта."
      ],
      "id": "LZfky54iefCR"
    },
    {
      "cell_type": "markdown",
      "metadata": {
        "id": "BJy_prePefCR"
      },
      "source": [
        "### Соберем датасет с заказами по папкам"
      ],
      "id": "BJy_prePefCR"
    },
    {
      "cell_type": "markdown",
      "metadata": {
        "id": "9q_v-jhCefCR"
      },
      "source": [
        "## Шаг 2"
      ],
      "id": "9q_v-jhCefCR"
    },
    {
      "cell_type": "markdown",
      "metadata": {
        "id": "jNTMZ8fBefCR"
      },
      "source": [
        "**Ваша первая задача — собрать данные со всех папок в три датафрейма:**  \n",
        "1. `df_orders` — на основе датасетов `orders.csv` + добавьте колонку `manager` с именами менеджеров и колонку `date` с датами.\n",
        "2. `df_order_status` — на основе датасетов `order_status.csv`.  \n",
        "3. `df_products` — на основе датасетов `products.csv` + добавьте колонку `category` с категориями товаров.  \n",
        "\n",
        "**Соберите датафреймы и сохраните их в соответствующие csv файлы: `df_orders.csv`, `df_order_status.csv` и `df_products.csv`.**"
      ],
      "id": "jNTMZ8fBefCR"
    },
    {
      "cell_type": "code",
      "execution_count": null,
      "metadata": {
        "id": "xnCK27VNefCS"
      },
      "outputs": [],
      "source": [
        "import numpy as np\n",
        "import os\n",
        "import pandas as pd\n",
        "import seaborn as sns\n",
        "import matplotlib.pyplot as plt"
      ],
      "id": "xnCK27VNefCS"
    },
    {
      "cell_type": "code",
      "execution_count": null,
      "metadata": {
        "id": "QyBsuHBfefCS"
      },
      "outputs": [],
      "source": [
        "way = '/mnt/HC_Volume_18315164/home-jupyter/jupyter-daniil-kodin-lcj76-002ba/shared/homeworks/python_ds_miniprojects/final_project/data/orders'\n",
        "way2 = '/mnt/HC_Volume_18315164/home-jupyter/jupyter-daniil-kodin-lcj76-002ba/shared/homeworks/python_ds_miniprojects/final_project/data/products'\n",
        "\n",
        "orders_paths = []\n",
        "orders_status_paths = []\n",
        "products_paths = []\n",
        "\n",
        "for path, dirs, files in os.walk(way):\n",
        "    # Вложенный цикл для перебора файлов в текущей папке\n",
        "    for file in files:\n",
        "        if file.endswith('orders.csv'):\n",
        "            file_path = os.path.join(path, file)\n",
        "            orders_paths.append(file_path)\n",
        "        if file.endswith('order_status.csv'):\n",
        "            file_path = os.path.join(path, file)\n",
        "            orders_status_paths.append(file_path)\n",
        "\n",
        "for path, dirs, files in os.walk(way2):\n",
        "    # Вложенный цикл для перебора файлов в текущей папке\n",
        "    for file in files:\n",
        "        if file.endswith('products.csv'):\n",
        "            file_path = os.path.join(path, file)\n",
        "            products_paths.append(file_path)\n"
      ],
      "id": "QyBsuHBfefCS"
    },
    {
      "cell_type": "code",
      "execution_count": null,
      "metadata": {
        "id": "BAJ7wv7mefCT",
        "outputId": "99c28cdc-7be3-42cf-eaf0-9cf2bd06f2df"
      },
      "outputs": [
        {
          "name": "stdout",
          "output_type": "stream",
          "text": [
            "(4603, 5)\n",
            "(346, 3)\n",
            "(1677, 4)\n"
          ]
        }
      ],
      "source": [
        "df_orders = pd.DataFrame()\n",
        "df_order_status = pd.DataFrame()\n",
        "df_products = pd.DataFrame()\n",
        "\n",
        "for i in orders_paths:\n",
        "    data = pd.read_csv(i)\n",
        "    manager = i.split('/')[-2]\n",
        "    date = i.split('/')[-3]\n",
        "    data['manager'] = manager\n",
        "    data['date'] = date\n",
        "    df_orders = pd.concat([data, df_orders], ignore_index=True)\n",
        "\n",
        "for i in orders_status_paths:\n",
        "    data = pd.read_csv(i)\n",
        "    df_order_status = pd.concat([data, df_order_status], ignore_index=True)\n",
        "\n",
        "\n",
        "for i in products_paths:\n",
        "    data = pd.read_csv(i)\n",
        "    category = i.split('/')[-2]\n",
        "    data['category'] = category\n",
        "    df_products = pd.concat([data, df_products], ignore_index=True)\n",
        "\n",
        "print(df_orders.shape)\n",
        "print(df_order_status.shape)\n",
        "print(df_products.shape)\n"
      ],
      "id": "BAJ7wv7mefCT"
    },
    {
      "cell_type": "code",
      "execution_count": null,
      "metadata": {
        "id": "cOEOrydsefCT",
        "outputId": "b39af3d6-9489-496b-9a75-67d802811d27"
      },
      "outputs": [
        {
          "data": {
            "text/html": [
              "<div>\n",
              "<style scoped>\n",
              "    .dataframe tbody tr th:only-of-type {\n",
              "        vertical-align: middle;\n",
              "    }\n",
              "\n",
              "    .dataframe tbody tr th {\n",
              "        vertical-align: top;\n",
              "    }\n",
              "\n",
              "    .dataframe thead th {\n",
              "        text-align: right;\n",
              "    }\n",
              "</style>\n",
              "<table border=\"1\" class=\"dataframe\">\n",
              "  <thead>\n",
              "    <tr style=\"text-align: right;\">\n",
              "      <th></th>\n",
              "      <th>id</th>\n",
              "      <th>name</th>\n",
              "      <th>price</th>\n",
              "      <th>category</th>\n",
              "    </tr>\n",
              "  </thead>\n",
              "  <tbody>\n",
              "    <tr>\n",
              "      <th>0</th>\n",
              "      <td>26</td>\n",
              "      <td>Anker, Soundcore Liberty Neo</td>\n",
              "      <td>35.92</td>\n",
              "      <td>Беспроводные наушники</td>\n",
              "    </tr>\n",
              "    <tr>\n",
              "      <th>1</th>\n",
              "      <td>27</td>\n",
              "      <td>Anker, Soundcore Life Q10</td>\n",
              "      <td>33.82</td>\n",
              "      <td>Беспроводные наушники</td>\n",
              "    </tr>\n",
              "    <tr>\n",
              "      <th>2</th>\n",
              "      <td>28</td>\n",
              "      <td>Anker, Soundcore Liberty 2 Pro</td>\n",
              "      <td>126.79</td>\n",
              "      <td>Беспроводные наушники</td>\n",
              "    </tr>\n",
              "    <tr>\n",
              "      <th>3</th>\n",
              "      <td>29</td>\n",
              "      <td>Anker, Soundcore Liberty Air</td>\n",
              "      <td>72.11</td>\n",
              "      <td>Беспроводные наушники</td>\n",
              "    </tr>\n",
              "    <tr>\n",
              "      <th>4</th>\n",
              "      <td>30</td>\n",
              "      <td>Anker, Soundcore Liberty Air 2</td>\n",
              "      <td>86.96</td>\n",
              "      <td>Беспроводные наушники</td>\n",
              "    </tr>\n",
              "  </tbody>\n",
              "</table>\n",
              "</div>"
            ],
            "text/plain": [
              "   id                            name   price               category\n",
              "0  26    Anker, Soundcore Liberty Neo   35.92  Беспроводные наушники\n",
              "1  27       Anker, Soundcore Life Q10   33.82  Беспроводные наушники\n",
              "2  28  Anker, Soundcore Liberty 2 Pro  126.79  Беспроводные наушники\n",
              "3  29    Anker, Soundcore Liberty Air   72.11  Беспроводные наушники\n",
              "4  30  Anker, Soundcore Liberty Air 2   86.96  Беспроводные наушники"
            ]
          },
          "execution_count": 4,
          "metadata": {},
          "output_type": "execute_result"
        }
      ],
      "source": [
        "df_products.head()"
      ],
      "id": "cOEOrydsefCT"
    },
    {
      "cell_type": "code",
      "execution_count": null,
      "metadata": {
        "id": "klJEDRGnefCT"
      },
      "outputs": [],
      "source": [
        "df_orders.to_csv(\"df_orders.csv\", index=False)\n",
        "df_order_status.to_csv(\"df_order_status.csv\", index=False)\n",
        "df_products.to_csv(\"df_products.csv\", index=False)"
      ],
      "id": "klJEDRGnefCT"
    },
    {
      "cell_type": "markdown",
      "metadata": {
        "id": "Ljs4HTygefCU"
      },
      "source": [
        "### Посмотрим на общую динамику заказов и определим дни, которые выбиваются из общей картины"
      ],
      "id": "Ljs4HTygefCU"
    },
    {
      "cell_type": "markdown",
      "metadata": {
        "id": "mIIwEZn-efCU"
      },
      "source": [
        "## Шаг 3"
      ],
      "id": "mIIwEZn-efCU"
    },
    {
      "cell_type": "markdown",
      "metadata": {
        "id": "Hkuzpse4efCU"
      },
      "source": [
        "Посчитайте количество заказов в каждый день. **Определите день с наибольшим числом заказов.** Укажите этот день в том формате, в котором он представлен в данных (гггг-мм-дд)."
      ],
      "id": "Hkuzpse4efCU"
    },
    {
      "cell_type": "code",
      "execution_count": null,
      "metadata": {
        "id": "S55eiT91efCU",
        "outputId": "257f2aaf-f1bd-4c78-accb-d21c5ef57094"
      },
      "outputs": [
        {
          "data": {
            "text/html": [
              "<div>\n",
              "<style scoped>\n",
              "    .dataframe tbody tr th:only-of-type {\n",
              "        vertical-align: middle;\n",
              "    }\n",
              "\n",
              "    .dataframe tbody tr th {\n",
              "        vertical-align: top;\n",
              "    }\n",
              "\n",
              "    .dataframe thead th {\n",
              "        text-align: right;\n",
              "    }\n",
              "</style>\n",
              "<table border=\"1\" class=\"dataframe\">\n",
              "  <thead>\n",
              "    <tr style=\"text-align: right;\">\n",
              "      <th></th>\n",
              "      <th>date</th>\n",
              "      <th>size</th>\n",
              "    </tr>\n",
              "  </thead>\n",
              "  <tbody>\n",
              "    <tr>\n",
              "      <th>13</th>\n",
              "      <td>2024-03-14</td>\n",
              "      <td>437</td>\n",
              "    </tr>\n",
              "    <tr>\n",
              "      <th>12</th>\n",
              "      <td>2024-03-13</td>\n",
              "      <td>339</td>\n",
              "    </tr>\n",
              "    <tr>\n",
              "      <th>0</th>\n",
              "      <td>2024-03-01</td>\n",
              "      <td>302</td>\n",
              "    </tr>\n",
              "    <tr>\n",
              "      <th>28</th>\n",
              "      <td>2024-03-29</td>\n",
              "      <td>241</td>\n",
              "    </tr>\n",
              "    <tr>\n",
              "      <th>25</th>\n",
              "      <td>2024-03-26</td>\n",
              "      <td>231</td>\n",
              "    </tr>\n",
              "    <tr>\n",
              "      <th>14</th>\n",
              "      <td>2024-03-15</td>\n",
              "      <td>225</td>\n",
              "    </tr>\n",
              "    <tr>\n",
              "      <th>4</th>\n",
              "      <td>2024-03-05</td>\n",
              "      <td>222</td>\n",
              "    </tr>\n",
              "    <tr>\n",
              "      <th>19</th>\n",
              "      <td>2024-03-20</td>\n",
              "      <td>222</td>\n",
              "    </tr>\n",
              "    <tr>\n",
              "      <th>5</th>\n",
              "      <td>2024-03-06</td>\n",
              "      <td>221</td>\n",
              "    </tr>\n",
              "    <tr>\n",
              "      <th>26</th>\n",
              "      <td>2024-03-27</td>\n",
              "      <td>203</td>\n",
              "    </tr>\n",
              "    <tr>\n",
              "      <th>11</th>\n",
              "      <td>2024-03-12</td>\n",
              "      <td>203</td>\n",
              "    </tr>\n",
              "    <tr>\n",
              "      <th>6</th>\n",
              "      <td>2024-03-07</td>\n",
              "      <td>201</td>\n",
              "    </tr>\n",
              "    <tr>\n",
              "      <th>21</th>\n",
              "      <td>2024-03-22</td>\n",
              "      <td>191</td>\n",
              "    </tr>\n",
              "    <tr>\n",
              "      <th>10</th>\n",
              "      <td>2024-03-11</td>\n",
              "      <td>185</td>\n",
              "    </tr>\n",
              "    <tr>\n",
              "      <th>18</th>\n",
              "      <td>2024-03-19</td>\n",
              "      <td>172</td>\n",
              "    </tr>\n",
              "    <tr>\n",
              "      <th>17</th>\n",
              "      <td>2024-03-18</td>\n",
              "      <td>159</td>\n",
              "    </tr>\n",
              "    <tr>\n",
              "      <th>27</th>\n",
              "      <td>2024-03-28</td>\n",
              "      <td>155</td>\n",
              "    </tr>\n",
              "    <tr>\n",
              "      <th>20</th>\n",
              "      <td>2024-03-21</td>\n",
              "      <td>152</td>\n",
              "    </tr>\n",
              "    <tr>\n",
              "      <th>3</th>\n",
              "      <td>2024-03-04</td>\n",
              "      <td>143</td>\n",
              "    </tr>\n",
              "    <tr>\n",
              "      <th>24</th>\n",
              "      <td>2024-03-25</td>\n",
              "      <td>129</td>\n",
              "    </tr>\n",
              "    <tr>\n",
              "      <th>16</th>\n",
              "      <td>2024-03-17</td>\n",
              "      <td>43</td>\n",
              "    </tr>\n",
              "    <tr>\n",
              "      <th>22</th>\n",
              "      <td>2024-03-23</td>\n",
              "      <td>42</td>\n",
              "    </tr>\n",
              "    <tr>\n",
              "      <th>9</th>\n",
              "      <td>2024-03-10</td>\n",
              "      <td>35</td>\n",
              "    </tr>\n",
              "    <tr>\n",
              "      <th>23</th>\n",
              "      <td>2024-03-24</td>\n",
              "      <td>33</td>\n",
              "    </tr>\n",
              "    <tr>\n",
              "      <th>1</th>\n",
              "      <td>2024-03-02</td>\n",
              "      <td>30</td>\n",
              "    </tr>\n",
              "    <tr>\n",
              "      <th>15</th>\n",
              "      <td>2024-03-16</td>\n",
              "      <td>26</td>\n",
              "    </tr>\n",
              "    <tr>\n",
              "      <th>29</th>\n",
              "      <td>2024-03-30</td>\n",
              "      <td>20</td>\n",
              "    </tr>\n",
              "    <tr>\n",
              "      <th>8</th>\n",
              "      <td>2024-03-09</td>\n",
              "      <td>18</td>\n",
              "    </tr>\n",
              "    <tr>\n",
              "      <th>30</th>\n",
              "      <td>2024-03-31</td>\n",
              "      <td>10</td>\n",
              "    </tr>\n",
              "    <tr>\n",
              "      <th>2</th>\n",
              "      <td>2024-03-03</td>\n",
              "      <td>8</td>\n",
              "    </tr>\n",
              "    <tr>\n",
              "      <th>7</th>\n",
              "      <td>2024-03-08</td>\n",
              "      <td>5</td>\n",
              "    </tr>\n",
              "  </tbody>\n",
              "</table>\n",
              "</div>"
            ],
            "text/plain": [
              "         date  size\n",
              "13 2024-03-14   437\n",
              "12 2024-03-13   339\n",
              "0  2024-03-01   302\n",
              "28 2024-03-29   241\n",
              "25 2024-03-26   231\n",
              "14 2024-03-15   225\n",
              "4  2024-03-05   222\n",
              "19 2024-03-20   222\n",
              "5  2024-03-06   221\n",
              "26 2024-03-27   203\n",
              "11 2024-03-12   203\n",
              "6  2024-03-07   201\n",
              "21 2024-03-22   191\n",
              "10 2024-03-11   185\n",
              "18 2024-03-19   172\n",
              "17 2024-03-18   159\n",
              "27 2024-03-28   155\n",
              "20 2024-03-21   152\n",
              "3  2024-03-04   143\n",
              "24 2024-03-25   129\n",
              "16 2024-03-17    43\n",
              "22 2024-03-23    42\n",
              "9  2024-03-10    35\n",
              "23 2024-03-24    33\n",
              "1  2024-03-02    30\n",
              "15 2024-03-16    26\n",
              "29 2024-03-30    20\n",
              "8  2024-03-09    18\n",
              "30 2024-03-31    10\n",
              "2  2024-03-03     8\n",
              "7  2024-03-08     5"
            ]
          },
          "execution_count": 9,
          "metadata": {},
          "output_type": "execute_result"
        }
      ],
      "source": [
        "df_orders['date'] = df_orders['date'].apply(pd.to_datetime)\n",
        "count_orders = df_orders.groupby('date', as_index=False).size().sort_values('size', ascending=False)\n",
        "count_orders"
      ],
      "id": "S55eiT91efCU"
    },
    {
      "cell_type": "markdown",
      "metadata": {
        "id": "u3I9aLUhefCU"
      },
      "source": [
        "**День с наибольшим числом заказов - 2024-03-14**"
      ],
      "id": "u3I9aLUhefCU"
    },
    {
      "cell_type": "markdown",
      "metadata": {
        "id": "sQ3AjKQGefCU"
      },
      "source": [
        "## Шаг 4"
      ],
      "id": "sQ3AjKQGefCU"
    },
    {
      "cell_type": "markdown",
      "metadata": {
        "id": "CDaTOu4qefCV"
      },
      "source": [
        "**Постройте график с количеством заказов по дням и определите, заметна ли в данных сезонность.**\n",
        "\n",
        "- Да, по выходным заказов намного больше, чем в остальные дни  \n",
        "- Да, по выходным почти нет заказов  \n",
        "- Да, по понедельникам заказов всегда больше, чем в остальные дни недели  \n",
        "- Да, по понедельникам заказов всегда меньше, чем в остальные дни недели  \n",
        "- Нет, в данных сложно обнаружить какие-то закономерности  "
      ],
      "id": "CDaTOu4qefCV"
    },
    {
      "cell_type": "code",
      "execution_count": null,
      "metadata": {
        "id": "SE8CIxLiefCV",
        "outputId": "9de9b325-b85e-47c7-c417-273eed58fb33"
      },
      "outputs": [
        {
          "data": {
            "text/plain": [
              "(array([ 0,  1,  2,  3,  4,  5,  6,  7,  8,  9, 10, 11, 12, 13, 14, 15, 16,\n",
              "        17, 18, 19, 20, 21, 22, 23, 24, 25, 26, 27, 28, 29, 30]),\n",
              " <a list of 31 Text major ticklabel objects>)"
            ]
          },
          "execution_count": 10,
          "metadata": {},
          "output_type": "execute_result"
        },
        {
          "data": {
            "image/png": "[encoded data removed]",
            "text/plain": [
              "<Figure size 432x288 with 1 Axes>"
            ]
          },
          "metadata": {
            "needs_background": "light"
          },
          "output_type": "display_data"
        }
      ],
      "source": [
        "sns.barplot(x = count_orders['date'], y = count_orders['size'])\n",
        "plt.xticks(rotation=45)"
      ],
      "id": "SE8CIxLiefCV"
    },
    {
      "cell_type": "markdown",
      "metadata": {
        "id": "xOKzIh99efCV"
      },
      "source": [
        "**Ответ - по выходным почти нет заказов.**"
      ],
      "id": "xOKzIh99efCV"
    },
    {
      "cell_type": "markdown",
      "metadata": {
        "id": "gsuNhSjwefCV"
      },
      "source": [
        "## Шаг 5"
      ],
      "id": "gsuNhSjwefCV"
    },
    {
      "cell_type": "markdown",
      "metadata": {
        "id": "lSCMEtMAefCV"
      },
      "source": [
        "**Кажется, в данных помимо дня с наибольшим числом заказов есть еще один день, который выбивается из общей картины.** Что это за день:  \n",
        "- Это воскресенье, в которое было много заказов?  \n",
        "- Это понедельник, в который было много заказов?  \n",
        "- Это пятница, в которую было мало заказов?  \n",
        "- Это праздничный день, в который было мало заказов?\n",
        "\n",
        "Подумайте, почему так вышло? Укажите этот день в том формате, в котором он представлен в данных (гггг-мм-дд)"
      ],
      "id": "lSCMEtMAefCV"
    },
    {
      "cell_type": "markdown",
      "metadata": {
        "id": "eRVXimkBefCV"
      },
      "source": [
        "**Это день 2024-03-08. Обычно в пятницу много заказов, но пятница 8 марта - это праздничный нерабочий день, поэтому в этот день было мало заказов.**"
      ],
      "id": "eRVXimkBefCV"
    },
    {
      "cell_type": "markdown",
      "metadata": {
        "id": "EyjubgYoefCV"
      },
      "source": [
        "## Шаг 6"
      ],
      "id": "EyjubgYoefCV"
    },
    {
      "cell_type": "markdown",
      "metadata": {
        "id": "zC6kEJ-kefCV"
      },
      "source": [
        "К вам пришел радостный руководитель отдела продаж и попросил выяснить причину, почему заказы в один из дней резко подскочили, чтобы и дальше увеличивать продажи.\n",
        "\n",
        "Возможно, в день с наибольшим числом заказов (который вы определили на третьем шаге) отдел маркетинга запустил какую-то акцию? Или менеджеры стали активнее предлагать компаниям оформить заказ? Нужно подробнее изучить этот день. Начнем со статусов заказа.\n",
        "\n",
        "**Добавьте к данным о заказах информацию об их статусах.**"
      ],
      "id": "zC6kEJ-kefCV"
    },
    {
      "cell_type": "code",
      "execution_count": null,
      "metadata": {
        "id": "AG7nMiUkefCW",
        "outputId": "a6e89c10-9846-4de0-aaa5-33198560cda2"
      },
      "outputs": [
        {
          "data": {
            "text/html": [
              "<div>\n",
              "<style scoped>\n",
              "    .dataframe tbody tr th:only-of-type {\n",
              "        vertical-align: middle;\n",
              "    }\n",
              "\n",
              "    .dataframe tbody tr th {\n",
              "        vertical-align: top;\n",
              "    }\n",
              "\n",
              "    .dataframe thead th {\n",
              "        text-align: right;\n",
              "    }\n",
              "</style>\n",
              "<table border=\"1\" class=\"dataframe\">\n",
              "  <thead>\n",
              "    <tr style=\"text-align: right;\">\n",
              "      <th></th>\n",
              "      <th>order_id</th>\n",
              "      <th>product_id</th>\n",
              "      <th>quantity</th>\n",
              "      <th>manager</th>\n",
              "      <th>date</th>\n",
              "      <th>client_id</th>\n",
              "      <th>status</th>\n",
              "    </tr>\n",
              "  </thead>\n",
              "  <tbody>\n",
              "    <tr>\n",
              "      <th>0</th>\n",
              "      <td>UAKD-95751033</td>\n",
              "      <td>580</td>\n",
              "      <td>6</td>\n",
              "      <td>Ксения Балалайкина</td>\n",
              "      <td>2024-03-26</td>\n",
              "      <td>61</td>\n",
              "      <td>confirmed</td>\n",
              "    </tr>\n",
              "    <tr>\n",
              "      <th>1</th>\n",
              "      <td>UAKD-95751033</td>\n",
              "      <td>812</td>\n",
              "      <td>24</td>\n",
              "      <td>Ксения Балалайкина</td>\n",
              "      <td>2024-03-26</td>\n",
              "      <td>61</td>\n",
              "      <td>confirmed</td>\n",
              "    </tr>\n",
              "    <tr>\n",
              "      <th>2</th>\n",
              "      <td>UAKD-95751033</td>\n",
              "      <td>145</td>\n",
              "      <td>9</td>\n",
              "      <td>Ксения Балалайкина</td>\n",
              "      <td>2024-03-26</td>\n",
              "      <td>61</td>\n",
              "      <td>confirmed</td>\n",
              "    </tr>\n",
              "    <tr>\n",
              "      <th>3</th>\n",
              "      <td>UAKD-95751033</td>\n",
              "      <td>194</td>\n",
              "      <td>6</td>\n",
              "      <td>Ксения Балалайкина</td>\n",
              "      <td>2024-03-26</td>\n",
              "      <td>61</td>\n",
              "      <td>confirmed</td>\n",
              "    </tr>\n",
              "    <tr>\n",
              "      <th>4</th>\n",
              "      <td>UAKD-95751033</td>\n",
              "      <td>1086</td>\n",
              "      <td>3</td>\n",
              "      <td>Ксения Балалайкина</td>\n",
              "      <td>2024-03-26</td>\n",
              "      <td>61</td>\n",
              "      <td>confirmed</td>\n",
              "    </tr>\n",
              "    <tr>\n",
              "      <th>...</th>\n",
              "      <td>...</td>\n",
              "      <td>...</td>\n",
              "      <td>...</td>\n",
              "      <td>...</td>\n",
              "      <td>...</td>\n",
              "      <td>...</td>\n",
              "      <td>...</td>\n",
              "    </tr>\n",
              "    <tr>\n",
              "      <th>4598</th>\n",
              "      <td>QPLK-54839036</td>\n",
              "      <td>469</td>\n",
              "      <td>9</td>\n",
              "      <td>Владимир Ударников</td>\n",
              "      <td>2024-03-10</td>\n",
              "      <td>52</td>\n",
              "      <td>confirmed</td>\n",
              "    </tr>\n",
              "    <tr>\n",
              "      <th>4599</th>\n",
              "      <td>QPLK-54839036</td>\n",
              "      <td>1302</td>\n",
              "      <td>5</td>\n",
              "      <td>Владимир Ударников</td>\n",
              "      <td>2024-03-10</td>\n",
              "      <td>52</td>\n",
              "      <td>confirmed</td>\n",
              "    </tr>\n",
              "    <tr>\n",
              "      <th>4600</th>\n",
              "      <td>QPLK-54839036</td>\n",
              "      <td>1309</td>\n",
              "      <td>5</td>\n",
              "      <td>Владимир Ударников</td>\n",
              "      <td>2024-03-10</td>\n",
              "      <td>52</td>\n",
              "      <td>confirmed</td>\n",
              "    </tr>\n",
              "    <tr>\n",
              "      <th>4601</th>\n",
              "      <td>QPLK-54839036</td>\n",
              "      <td>134</td>\n",
              "      <td>4</td>\n",
              "      <td>Владимир Ударников</td>\n",
              "      <td>2024-03-10</td>\n",
              "      <td>52</td>\n",
              "      <td>confirmed</td>\n",
              "    </tr>\n",
              "    <tr>\n",
              "      <th>4602</th>\n",
              "      <td>QPLK-54839036</td>\n",
              "      <td>1659</td>\n",
              "      <td>10</td>\n",
              "      <td>Владимир Ударников</td>\n",
              "      <td>2024-03-10</td>\n",
              "      <td>52</td>\n",
              "      <td>confirmed</td>\n",
              "    </tr>\n",
              "  </tbody>\n",
              "</table>\n",
              "<p>4603 rows × 7 columns</p>\n",
              "</div>"
            ],
            "text/plain": [
              "           order_id  product_id  quantity             manager       date  \\\n",
              "0     UAKD-95751033         580         6  Ксения Балалайкина 2024-03-26   \n",
              "1     UAKD-95751033         812        24  Ксения Балалайкина 2024-03-26   \n",
              "2     UAKD-95751033         145         9  Ксения Балалайкина 2024-03-26   \n",
              "3     UAKD-95751033         194         6  Ксения Балалайкина 2024-03-26   \n",
              "4     UAKD-95751033        1086         3  Ксения Балалайкина 2024-03-26   \n",
              "...             ...         ...       ...                 ...        ...   \n",
              "4598  QPLK-54839036         469         9  Владимир Ударников 2024-03-10   \n",
              "4599  QPLK-54839036        1302         5  Владимир Ударников 2024-03-10   \n",
              "4600  QPLK-54839036        1309         5  Владимир Ударников 2024-03-10   \n",
              "4601  QPLK-54839036         134         4  Владимир Ударников 2024-03-10   \n",
              "4602  QPLK-54839036        1659        10  Владимир Ударников 2024-03-10   \n",
              "\n",
              "      client_id     status  \n",
              "0            61  confirmed  \n",
              "1            61  confirmed  \n",
              "2            61  confirmed  \n",
              "3            61  confirmed  \n",
              "4            61  confirmed  \n",
              "...         ...        ...  \n",
              "4598         52  confirmed  \n",
              "4599         52  confirmed  \n",
              "4600         52  confirmed  \n",
              "4601         52  confirmed  \n",
              "4602         52  confirmed  \n",
              "\n",
              "[4603 rows x 7 columns]"
            ]
          },
          "execution_count": 11,
          "metadata": {},
          "output_type": "execute_result"
        }
      ],
      "source": [
        "orders_status = df_orders.merge(df_order_status, on='order_id')\n",
        "orders_status.to_csv(\"orders_status.csv\", index=False)\n",
        "orders_status"
      ],
      "id": "AG7nMiUkefCW"
    },
    {
      "cell_type": "markdown",
      "metadata": {
        "id": "Y0IRRxFmefCW"
      },
      "source": [
        "## Шаг 7"
      ],
      "id": "Y0IRRxFmefCW"
    },
    {
      "cell_type": "markdown",
      "metadata": {
        "id": "LfhWoN3UefCW"
      },
      "source": [
        "Посмотрите на количество и соотношение подтвержденных и отмененных заказов. **В ответе укажите долю отмененных заказов.** Ответ округлите до двух знаков после точки."
      ],
      "id": "LfhWoN3UefCW"
    },
    {
      "cell_type": "code",
      "execution_count": null,
      "metadata": {
        "id": "PLQzy_O7efCZ",
        "outputId": "cf4548c6-7e4e-40e9-9463-fcf421ae4e5f"
      },
      "outputs": [
        {
          "data": {
            "text/plain": [
              "confirmed    309\n",
              "canceled      37\n",
              "Name: status, dtype: int64"
            ]
          },
          "execution_count": 12,
          "metadata": {},
          "output_type": "execute_result"
        }
      ],
      "source": [
        "orders_status[['order_id', 'status']].drop_duplicates().status.value_counts()\n"
      ],
      "id": "PLQzy_O7efCZ"
    },
    {
      "cell_type": "code",
      "execution_count": null,
      "metadata": {
        "id": "1fmbWqjlefCZ",
        "outputId": "b2c2625c-9e41-4ed8-fd04-5914d7996eda"
      },
      "outputs": [
        {
          "data": {
            "text/plain": [
              "confirmed    0.89\n",
              "canceled     0.11\n",
              "Name: status, dtype: float64"
            ]
          },
          "execution_count": 14,
          "metadata": {},
          "output_type": "execute_result"
        }
      ],
      "source": [
        "orders_status[['order_id', 'status']].drop_duplicates().status.value_counts(normalize=True).round(2)"
      ],
      "id": "1fmbWqjlefCZ"
    },
    {
      "cell_type": "markdown",
      "metadata": {
        "id": "7RPWY4eoefCa"
      },
      "source": [
        "**Доля отмененных заказов - 0.11**"
      ],
      "id": "7RPWY4eoefCa"
    },
    {
      "cell_type": "markdown",
      "metadata": {
        "id": "0l-SUio-efCa"
      },
      "source": [
        "## Шаг 8"
      ],
      "id": "0l-SUio-efCa"
    },
    {
      "cell_type": "markdown",
      "metadata": {
        "id": "RDD27YfEefCa"
      },
      "source": [
        "**Посчитайте количество подтвержденных и отмененных заказов на каждую дату.** Определите, в какой день не было ни одного подтвержденного заказа. Для этого сделайте сводную таблицу, где в строках будут даты, в колонках — стутасы заказов, а значения — число заказов с этим статусом в определенную дату. Пропуски заполните нулями.  \n",
        "\n",
        "**В ответ укажите день, когда не было ни одного подтвержденного заказа.** Дату укажите в том формате, в котором она представлена в данных (гггг-мм-дд)."
      ],
      "id": "RDD27YfEefCa"
    },
    {
      "cell_type": "code",
      "execution_count": null,
      "metadata": {
        "id": "ahgaAC6WefCa",
        "outputId": "2b1bf145-0939-4f72-ac63-a5fd44c8a6c8"
      },
      "outputs": [
        {
          "data": {
            "text/html": [
              "<div>\n",
              "<style scoped>\n",
              "    .dataframe tbody tr th:only-of-type {\n",
              "        vertical-align: middle;\n",
              "    }\n",
              "\n",
              "    .dataframe tbody tr th {\n",
              "        vertical-align: top;\n",
              "    }\n",
              "\n",
              "    .dataframe thead th {\n",
              "        text-align: right;\n",
              "    }\n",
              "</style>\n",
              "<table border=\"1\" class=\"dataframe\">\n",
              "  <thead>\n",
              "    <tr style=\"text-align: right;\">\n",
              "      <th>status</th>\n",
              "      <th>canceled</th>\n",
              "      <th>confirmed</th>\n",
              "    </tr>\n",
              "    <tr>\n",
              "      <th>date</th>\n",
              "      <th></th>\n",
              "      <th></th>\n",
              "    </tr>\n",
              "  </thead>\n",
              "  <tbody>\n",
              "    <tr>\n",
              "      <th>2024-03-01</th>\n",
              "      <td>29</td>\n",
              "      <td>273</td>\n",
              "    </tr>\n",
              "    <tr>\n",
              "      <th>2024-03-02</th>\n",
              "      <td>0</td>\n",
              "      <td>30</td>\n",
              "    </tr>\n",
              "    <tr>\n",
              "      <th>2024-03-03</th>\n",
              "      <td>0</td>\n",
              "      <td>8</td>\n",
              "    </tr>\n",
              "    <tr>\n",
              "      <th>2024-03-04</th>\n",
              "      <td>0</td>\n",
              "      <td>143</td>\n",
              "    </tr>\n",
              "    <tr>\n",
              "      <th>2024-03-05</th>\n",
              "      <td>0</td>\n",
              "      <td>222</td>\n",
              "    </tr>\n",
              "    <tr>\n",
              "      <th>2024-03-06</th>\n",
              "      <td>12</td>\n",
              "      <td>209</td>\n",
              "    </tr>\n",
              "    <tr>\n",
              "      <th>2024-03-07</th>\n",
              "      <td>5</td>\n",
              "      <td>196</td>\n",
              "    </tr>\n",
              "    <tr>\n",
              "      <th>2024-03-08</th>\n",
              "      <td>0</td>\n",
              "      <td>5</td>\n",
              "    </tr>\n",
              "    <tr>\n",
              "      <th>2024-03-09</th>\n",
              "      <td>18</td>\n",
              "      <td>0</td>\n",
              "    </tr>\n",
              "    <tr>\n",
              "      <th>2024-03-10</th>\n",
              "      <td>12</td>\n",
              "      <td>23</td>\n",
              "    </tr>\n",
              "    <tr>\n",
              "      <th>2024-03-11</th>\n",
              "      <td>17</td>\n",
              "      <td>168</td>\n",
              "    </tr>\n",
              "    <tr>\n",
              "      <th>2024-03-12</th>\n",
              "      <td>31</td>\n",
              "      <td>172</td>\n",
              "    </tr>\n",
              "    <tr>\n",
              "      <th>2024-03-13</th>\n",
              "      <td>263</td>\n",
              "      <td>76</td>\n",
              "    </tr>\n",
              "    <tr>\n",
              "      <th>2024-03-14</th>\n",
              "      <td>0</td>\n",
              "      <td>437</td>\n",
              "    </tr>\n",
              "    <tr>\n",
              "      <th>2024-03-15</th>\n",
              "      <td>16</td>\n",
              "      <td>209</td>\n",
              "    </tr>\n",
              "    <tr>\n",
              "      <th>2024-03-16</th>\n",
              "      <td>0</td>\n",
              "      <td>26</td>\n",
              "    </tr>\n",
              "    <tr>\n",
              "      <th>2024-03-17</th>\n",
              "      <td>0</td>\n",
              "      <td>43</td>\n",
              "    </tr>\n",
              "    <tr>\n",
              "      <th>2024-03-18</th>\n",
              "      <td>0</td>\n",
              "      <td>159</td>\n",
              "    </tr>\n",
              "    <tr>\n",
              "      <th>2024-03-19</th>\n",
              "      <td>22</td>\n",
              "      <td>150</td>\n",
              "    </tr>\n",
              "    <tr>\n",
              "      <th>2024-03-20</th>\n",
              "      <td>37</td>\n",
              "      <td>185</td>\n",
              "    </tr>\n",
              "    <tr>\n",
              "      <th>2024-03-21</th>\n",
              "      <td>31</td>\n",
              "      <td>121</td>\n",
              "    </tr>\n",
              "    <tr>\n",
              "      <th>2024-03-22</th>\n",
              "      <td>0</td>\n",
              "      <td>191</td>\n",
              "    </tr>\n",
              "    <tr>\n",
              "      <th>2024-03-23</th>\n",
              "      <td>0</td>\n",
              "      <td>42</td>\n",
              "    </tr>\n",
              "    <tr>\n",
              "      <th>2024-03-24</th>\n",
              "      <td>0</td>\n",
              "      <td>33</td>\n",
              "    </tr>\n",
              "    <tr>\n",
              "      <th>2024-03-25</th>\n",
              "      <td>13</td>\n",
              "      <td>116</td>\n",
              "    </tr>\n",
              "    <tr>\n",
              "      <th>2024-03-26</th>\n",
              "      <td>14</td>\n",
              "      <td>217</td>\n",
              "    </tr>\n",
              "    <tr>\n",
              "      <th>2024-03-27</th>\n",
              "      <td>0</td>\n",
              "      <td>203</td>\n",
              "    </tr>\n",
              "    <tr>\n",
              "      <th>2024-03-28</th>\n",
              "      <td>0</td>\n",
              "      <td>155</td>\n",
              "    </tr>\n",
              "    <tr>\n",
              "      <th>2024-03-29</th>\n",
              "      <td>0</td>\n",
              "      <td>241</td>\n",
              "    </tr>\n",
              "    <tr>\n",
              "      <th>2024-03-30</th>\n",
              "      <td>0</td>\n",
              "      <td>20</td>\n",
              "    </tr>\n",
              "    <tr>\n",
              "      <th>2024-03-31</th>\n",
              "      <td>0</td>\n",
              "      <td>10</td>\n",
              "    </tr>\n",
              "  </tbody>\n",
              "</table>\n",
              "</div>"
            ],
            "text/plain": [
              "status      canceled  confirmed\n",
              "date                           \n",
              "2024-03-01        29        273\n",
              "2024-03-02         0         30\n",
              "2024-03-03         0          8\n",
              "2024-03-04         0        143\n",
              "2024-03-05         0        222\n",
              "2024-03-06        12        209\n",
              "2024-03-07         5        196\n",
              "2024-03-08         0          5\n",
              "2024-03-09        18          0\n",
              "2024-03-10        12         23\n",
              "2024-03-11        17        168\n",
              "2024-03-12        31        172\n",
              "2024-03-13       263         76\n",
              "2024-03-14         0        437\n",
              "2024-03-15        16        209\n",
              "2024-03-16         0         26\n",
              "2024-03-17         0         43\n",
              "2024-03-18         0        159\n",
              "2024-03-19        22        150\n",
              "2024-03-20        37        185\n",
              "2024-03-21        31        121\n",
              "2024-03-22         0        191\n",
              "2024-03-23         0         42\n",
              "2024-03-24         0         33\n",
              "2024-03-25        13        116\n",
              "2024-03-26        14        217\n",
              "2024-03-27         0        203\n",
              "2024-03-28         0        155\n",
              "2024-03-29         0        241\n",
              "2024-03-30         0         20\n",
              "2024-03-31         0         10"
            ]
          },
          "execution_count": 15,
          "metadata": {},
          "output_type": "execute_result"
        }
      ],
      "source": [
        "gr = orders_status.groupby(['date', 'status'], as_index=False).size()\n",
        "pivot_orders = gr.pivot_table(index='date', columns='status', values='size').fillna(0)\n",
        "pivot_orders['canceled'] = pivot_orders['canceled'].astype(int)\n",
        "pivot_orders['confirmed'] = pivot_orders['confirmed'].astype(int)\n",
        "pivot_orders"
      ],
      "id": "ahgaAC6WefCa"
    },
    {
      "cell_type": "markdown",
      "metadata": {
        "id": "KcqYPecaefCa"
      },
      "source": [
        "**День, когда не было ни одного подтвержденного заказа - 2024-03-09**"
      ],
      "id": "KcqYPecaefCa"
    },
    {
      "cell_type": "markdown",
      "metadata": {
        "id": "ZRUpHDwSefCa"
      },
      "source": [
        "## Шаг 9"
      ],
      "id": "ZRUpHDwSefCa"
    },
    {
      "cell_type": "markdown",
      "metadata": {
        "id": "s-77BCNRefCb"
      },
      "source": [
        "**Постройте график с заказами по дням в разбивке по статусу заказа.** Посмотрим подробнее на день с наибольшим числом заказов (вместе и подтвержденных, и отменных), который мы определили ранее, и на день, предшествующий ему. Какой вывод можно сделать? Выберите один или несколько вариантов:\n",
        "\n",
        "- В день с наибольшим числом заказов было очень много отмен  \n",
        "- В день с наибольшим числом заказов было много успешно оформленных заказов  \n",
        "- В день, предшествующий дню с наибольшим числом заказов, было много отмен  \n",
        "- В день, предшествующий дню с наибольшим числом заказов, было много успешно оформленных заказов  \n",
        "- В день, предшествующий дню с наибольшим числом заказов, не было ни одного успешно оформленного заказа  \n",
        "- В день, предшествующий дню с наибольшим числом заказов, не было ни одного отмененного заказа"
      ],
      "id": "s-77BCNRefCb"
    },
    {
      "cell_type": "code",
      "execution_count": null,
      "metadata": {
        "id": "v4GrcwcFefCb",
        "outputId": "0e7b1765-dbfc-4fc8-8ed9-f8ee413302b8"
      },
      "outputs": [
        {
          "data": {
            "text/plain": [
              "<Figure size 864x432 with 0 Axes>"
            ]
          },
          "metadata": {},
          "output_type": "display_data"
        },
        {
          "data": {
            "image/png": "[encoded data removed]",
            "text/plain": [
              "<Figure size 864x432 with 1 Axes>"
            ]
          },
          "metadata": {
            "needs_background": "light"
          },
          "output_type": "display_data"
        }
      ],
      "source": [
        "plt.figure(figsize=(12, 6))\n",
        "pivot_orders.plot(kind='bar', stacked=True, figsize=(12, 6))\n",
        "plt.title(\"Заказы по статусу за день\")\n",
        "plt.xlabel(\"Дата\")\n",
        "plt.ylabel(\"Количество заказов\")\n",
        "plt.xticks(rotation=45)\n",
        "plt.legend(title=\"Статус заказа\")\n",
        "plt.tight_layout()\n",
        "plt.show()"
      ],
      "id": "v4GrcwcFefCb"
    },
    {
      "cell_type": "markdown",
      "metadata": {
        "id": "rYeM3Hu8efCb"
      },
      "source": [
        "**Ответ:**\n",
        "- **В день с наибольшим числом заказов было много успешно оформленных заказов**\n",
        "- **В день, предшествующий дню с наибольшим числом заказов, было много отмен**"
      ],
      "id": "rYeM3Hu8efCb"
    },
    {
      "cell_type": "markdown",
      "metadata": {
        "id": "3ecNY65wefCb"
      },
      "source": [
        "## Шаг 10"
      ],
      "id": "3ecNY65wefCb"
    },
    {
      "cell_type": "markdown",
      "metadata": {
        "id": "t7ztITiOefCb"
      },
      "source": [
        "Рассмотрим эти два дня отдельно (день с наибольшим числом заказов, который мы определили ранее, и день, предшествующий ему). Проанализируйте заказы за эти дни и ответьте, какую из этих гипотез можно назвать наиболее правдоподобной.\n",
        "\n",
        "- Так сложилось, что один день оказался крайне неудачным для отдела продаж, все клиенты отменили свои заказы. А на следующий день отдел продаж пытался компенсировать отсутствие продаж в предыдущий и перевыполнил дневной план. Почти все заказы не повторяют вчерашние  \n",
        "- Произошел сбой в работе CRM системы, который не позволил клиентам подтвердить заказ. В результате все созданные в первый день заказы автоматически отменились, поэтому клиентам пришлось оформлять их повторно на следующий день. Почти половина заказов повторяет вчерашние\n",
        "\n",
        "Как можно определить, что заказ повторяет вчерашний? У заказов будут совпадать сразу несколько параметров: клиент, менеджер, количество уникальных товаров в заказе и общее число товаров в штуках. Но номера заказов будут разными."
      ],
      "id": "t7ztITiOefCb"
    },
    {
      "cell_type": "code",
      "execution_count": null,
      "metadata": {
        "id": "p9Y81gL5efCc",
        "outputId": "c0dd44f4-e44b-47a7-9203-0417b4488c01"
      },
      "outputs": [
        {
          "data": {
            "text/plain": [
              "0.47058823529411764"
            ]
          },
          "execution_count": 17,
          "metadata": {},
          "output_type": "execute_result"
        }
      ],
      "source": [
        "df_canceled_march_13 = orders_status\\\n",
        "    .loc[(orders_status['date'] == '2024-03-13') & (orders_status['status'] == 'canceled')] \\\n",
        "    .groupby(['order_id'], as_index=False) \\\n",
        "    .aggregate({'product_id': 'nunique', 'manager': 'max', 'client_id': 'max', 'quantity':'sum'})\n",
        "\n",
        "df_confirmed_march_14 = orders_status\\\n",
        "    .loc[(orders_status['date'] == '2024-03-14') & (orders_status['status'] == 'confirmed')] \\\n",
        "    .groupby(['order_id'], as_index=False) \\\n",
        "    .aggregate({'product_id': 'nunique', 'manager': 'max', 'client_id': 'max', 'quantity':'sum'})\n",
        "\n",
        "df_canceled_and_again_confirmed = pd.merge(df_canceled_march_13, df_confirmed_march_14,\n",
        "                                  on=['product_id','manager', 'client_id', 'quantity'],\n",
        "                                  how='inner')\n",
        "\n",
        "df_canceled_and_again_confirmed.shape[0] / df_confirmed_march_14.shape[0]"
      ],
      "id": "p9Y81gL5efCc"
    },
    {
      "cell_type": "markdown",
      "metadata": {
        "id": "7ntuFr7ZefCc"
      },
      "source": [
        "**Произошел сбой в работе CRM системы, который не позволил клиентам подтвердить заказ. В результате все созданные в первый день заказы автоматически отменились, поэтому клиентам пришлось оформлять их повторно на следующий день. Почти половина заказов повторяет вчерашние**"
      ],
      "id": "7ntuFr7ZefCc"
    },
    {
      "cell_type": "markdown",
      "metadata": {
        "id": "2xXForLGefCc"
      },
      "source": [
        "### Посчитаем ключевые метрики, посмотрим на их динамику и составим небольшой отчет"
      ],
      "id": "2xXForLGefCc"
    },
    {
      "cell_type": "markdown",
      "metadata": {
        "id": "YjsWY8JDefCc"
      },
      "source": [
        "## Шаг 11"
      ],
      "id": "YjsWY8JDefCc"
    },
    {
      "cell_type": "markdown",
      "metadata": {
        "id": "3MxeD6Z3efCc"
      },
      "source": [
        "**У вас есть данные за целый месяц, поэтому пора посчитать ключевые метрики этого месяца.** Но вот незадача - в ваших данных цена единицы товара указана в долларах США, потому что закупаете их в долларах, но продаете товары за российские рубли (по тому курсу, который установил Центробанк на дату продажи), а значит и метрики требуется посчитать в рублях. Хорошо, что у вас есть текстовый файл с курсом доллара США на каждую дату. **Откройте файл `usd_rate.txt`, соберите из него датафрейм с 2 колонками: `date` и `currency_rate`. Посчитайте среднее значение курса доллара за месяц.** Результат округлите до двух знаков после точки."
      ],
      "id": "3MxeD6Z3efCc"
    },
    {
      "cell_type": "code",
      "execution_count": null,
      "metadata": {
        "id": "R8vNCdUQefCc",
        "outputId": "8026f38b-06c1-473c-935d-da39fbe5481f"
      },
      "outputs": [
        {
          "data": {
            "text/html": [
              "<div>\n",
              "<style scoped>\n",
              "    .dataframe tbody tr th:only-of-type {\n",
              "        vertical-align: middle;\n",
              "    }\n",
              "\n",
              "    .dataframe tbody tr th {\n",
              "        vertical-align: top;\n",
              "    }\n",
              "\n",
              "    .dataframe thead th {\n",
              "        text-align: right;\n",
              "    }\n",
              "</style>\n",
              "<table border=\"1\" class=\"dataframe\">\n",
              "  <thead>\n",
              "    <tr style=\"text-align: right;\">\n",
              "      <th></th>\n",
              "      <th>date</th>\n",
              "      <th>currency_rate</th>\n",
              "    </tr>\n",
              "  </thead>\n",
              "  <tbody>\n",
              "    <tr>\n",
              "      <th>0</th>\n",
              "      <td>2024-03-01</td>\n",
              "      <td>90.8423</td>\n",
              "    </tr>\n",
              "    <tr>\n",
              "      <th>1</th>\n",
              "      <td>2024-03-02</td>\n",
              "      <td>91.3336</td>\n",
              "    </tr>\n",
              "    <tr>\n",
              "      <th>2</th>\n",
              "      <td>2024-03-03</td>\n",
              "      <td>91.3336</td>\n",
              "    </tr>\n",
              "    <tr>\n",
              "      <th>3</th>\n",
              "      <td>2024-03-04</td>\n",
              "      <td>91.3336</td>\n",
              "    </tr>\n",
              "    <tr>\n",
              "      <th>4</th>\n",
              "      <td>2024-03-05</td>\n",
              "      <td>91.3534</td>\n",
              "    </tr>\n",
              "    <tr>\n",
              "      <th>5</th>\n",
              "      <td>2024-03-06</td>\n",
              "      <td>91.1604</td>\n",
              "    </tr>\n",
              "    <tr>\n",
              "      <th>6</th>\n",
              "      <td>2024-03-07</td>\n",
              "      <td>90.3412</td>\n",
              "    </tr>\n",
              "    <tr>\n",
              "      <th>7</th>\n",
              "      <td>2024-03-08</td>\n",
              "      <td>90.7493</td>\n",
              "    </tr>\n",
              "    <tr>\n",
              "      <th>8</th>\n",
              "      <td>2024-03-09</td>\n",
              "      <td>90.7493</td>\n",
              "    </tr>\n",
              "    <tr>\n",
              "      <th>9</th>\n",
              "      <td>2024-03-10</td>\n",
              "      <td>90.7493</td>\n",
              "    </tr>\n",
              "    <tr>\n",
              "      <th>10</th>\n",
              "      <td>2024-03-11</td>\n",
              "      <td>90.7493</td>\n",
              "    </tr>\n",
              "    <tr>\n",
              "      <th>11</th>\n",
              "      <td>2024-03-12</td>\n",
              "      <td>90.6252</td>\n",
              "    </tr>\n",
              "    <tr>\n",
              "      <th>12</th>\n",
              "      <td>2024-03-13</td>\n",
              "      <td>90.8818</td>\n",
              "    </tr>\n",
              "    <tr>\n",
              "      <th>13</th>\n",
              "      <td>2024-03-14</td>\n",
              "      <td>91.5449</td>\n",
              "    </tr>\n",
              "    <tr>\n",
              "      <th>14</th>\n",
              "      <td>2024-03-15</td>\n",
              "      <td>91.6359</td>\n",
              "    </tr>\n",
              "    <tr>\n",
              "      <th>15</th>\n",
              "      <td>2024-03-16</td>\n",
              "      <td>91.8700</td>\n",
              "    </tr>\n",
              "    <tr>\n",
              "      <th>16</th>\n",
              "      <td>2024-03-17</td>\n",
              "      <td>91.8700</td>\n",
              "    </tr>\n",
              "    <tr>\n",
              "      <th>17</th>\n",
              "      <td>2024-03-18</td>\n",
              "      <td>91.8700</td>\n",
              "    </tr>\n",
              "    <tr>\n",
              "      <th>18</th>\n",
              "      <td>2024-03-19</td>\n",
              "      <td>91.9829</td>\n",
              "    </tr>\n",
              "    <tr>\n",
              "      <th>19</th>\n",
              "      <td>2024-03-20</td>\n",
              "      <td>92.2243</td>\n",
              "    </tr>\n",
              "    <tr>\n",
              "      <th>20</th>\n",
              "      <td>2024-03-21</td>\n",
              "      <td>92.6861</td>\n",
              "    </tr>\n",
              "    <tr>\n",
              "      <th>21</th>\n",
              "      <td>2024-03-22</td>\n",
              "      <td>91.9499</td>\n",
              "    </tr>\n",
              "    <tr>\n",
              "      <th>22</th>\n",
              "      <td>2024-03-23</td>\n",
              "      <td>92.6118</td>\n",
              "    </tr>\n",
              "    <tr>\n",
              "      <th>23</th>\n",
              "      <td>2024-03-24</td>\n",
              "      <td>92.6118</td>\n",
              "    </tr>\n",
              "    <tr>\n",
              "      <th>24</th>\n",
              "      <td>2024-03-25</td>\n",
              "      <td>92.6118</td>\n",
              "    </tr>\n",
              "    <tr>\n",
              "      <th>25</th>\n",
              "      <td>2024-03-26</td>\n",
              "      <td>92.7761</td>\n",
              "    </tr>\n",
              "    <tr>\n",
              "      <th>26</th>\n",
              "      <td>2024-03-27</td>\n",
              "      <td>92.5745</td>\n",
              "    </tr>\n",
              "    <tr>\n",
              "      <th>27</th>\n",
              "      <td>2024-03-28</td>\n",
              "      <td>92.5919</td>\n",
              "    </tr>\n",
              "    <tr>\n",
              "      <th>28</th>\n",
              "      <td>2024-03-29</td>\n",
              "      <td>92.2628</td>\n",
              "    </tr>\n",
              "    <tr>\n",
              "      <th>29</th>\n",
              "      <td>2024-03-30</td>\n",
              "      <td>92.3660</td>\n",
              "    </tr>\n",
              "    <tr>\n",
              "      <th>30</th>\n",
              "      <td>2024-03-31</td>\n",
              "      <td>92.3660</td>\n",
              "    </tr>\n",
              "  </tbody>\n",
              "</table>\n",
              "</div>"
            ],
            "text/plain": [
              "         date  currency_rate\n",
              "0  2024-03-01        90.8423\n",
              "1  2024-03-02        91.3336\n",
              "2  2024-03-03        91.3336\n",
              "3  2024-03-04        91.3336\n",
              "4  2024-03-05        91.3534\n",
              "5  2024-03-06        91.1604\n",
              "6  2024-03-07        90.3412\n",
              "7  2024-03-08        90.7493\n",
              "8  2024-03-09        90.7493\n",
              "9  2024-03-10        90.7493\n",
              "10 2024-03-11        90.7493\n",
              "11 2024-03-12        90.6252\n",
              "12 2024-03-13        90.8818\n",
              "13 2024-03-14        91.5449\n",
              "14 2024-03-15        91.6359\n",
              "15 2024-03-16        91.8700\n",
              "16 2024-03-17        91.8700\n",
              "17 2024-03-18        91.8700\n",
              "18 2024-03-19        91.9829\n",
              "19 2024-03-20        92.2243\n",
              "20 2024-03-21        92.6861\n",
              "21 2024-03-22        91.9499\n",
              "22 2024-03-23        92.6118\n",
              "23 2024-03-24        92.6118\n",
              "24 2024-03-25        92.6118\n",
              "25 2024-03-26        92.7761\n",
              "26 2024-03-27        92.5745\n",
              "27 2024-03-28        92.5919\n",
              "28 2024-03-29        92.2628\n",
              "29 2024-03-30        92.3660\n",
              "30 2024-03-31        92.3660"
            ]
          },
          "execution_count": 18,
          "metadata": {},
          "output_type": "execute_result"
        }
      ],
      "source": [
        "with open('usd_rate.txt', 'r') as file:\n",
        "    currency = file.readlines()\n",
        "\n",
        "\n",
        "df_dollar = pd.DataFrame(currency, columns=['data'])\n",
        "df_dollar['date'] = df_dollar['data'].apply(lambda x: x.split(\",\")[0])  # Получаем дату (первое значение)\n",
        "df_dollar['currency_rate'] = df_dollar['data'].apply(lambda x: x.split(',')[1])  # Получаем курс валюты (второе значение)\n",
        "df_dollar = df_dollar.drop(columns=['data'])\n",
        "df_dollar['date'] = df_dollar['date'].apply(pd.to_datetime)\n",
        "df_dollar.currency_rate = df_dollar.currency_rate.astype(float)\n",
        "#df_dollar.currency_rate.mean().round(2)\n",
        "df_dollar"
      ],
      "id": "R8vNCdUQefCc"
    },
    {
      "cell_type": "code",
      "execution_count": null,
      "metadata": {
        "id": "htHqlroCefCd",
        "outputId": "7b10efbb-752e-419c-9c9d-746f3186269b"
      },
      "outputs": [
        {
          "data": {
            "text/plain": [
              "91.7"
            ]
          },
          "execution_count": 20,
          "metadata": {},
          "output_type": "execute_result"
        }
      ],
      "source": [
        "df_dollar.currency_rate.mean().round(2)"
      ],
      "id": "htHqlroCefCd"
    },
    {
      "cell_type": "markdown",
      "metadata": {
        "id": "GI2VYVA-efCd"
      },
      "source": [
        "**Среднее значение курса доллара - 91.7**"
      ],
      "id": "GI2VYVA-efCd"
    },
    {
      "cell_type": "markdown",
      "metadata": {
        "id": "b5Lgvn3zefCd"
      },
      "source": [
        "## Шаг 12"
      ],
      "id": "b5Lgvn3zefCd"
    },
    {
      "cell_type": "markdown",
      "metadata": {
        "id": "zYZHhsW5efCd"
      },
      "source": [
        "**Работу с ключевыми метриками начните с подсчета общей выручки.** Данные по товарам в подтвержденных заказах у вас есть в датафрейме `orders_status`, а стоимость одной единицы товара можно взять из датафрейма `df_products`. Объедините эти датафреймы в общий `df_full`, добавьте к ним информацию по курсу доллара на каждую дату. Создайте колонку с выручкой для каждого товара в заказах и посчитайте, **чему равна общая выручка в рублях?** Учитывайте только подтвержденные заказы. Результат округлите до двух знаков после точки."
      ],
      "id": "zYZHhsW5efCd"
    },
    {
      "cell_type": "code",
      "execution_count": null,
      "metadata": {
        "id": "7rmJQX1MefCd",
        "outputId": "6ad17aa0-1bea-44c7-a328-5cb9bb58dc5a"
      },
      "outputs": [
        {
          "data": {
            "text/html": [
              "<div>\n",
              "<style scoped>\n",
              "    .dataframe tbody tr th:only-of-type {\n",
              "        vertical-align: middle;\n",
              "    }\n",
              "\n",
              "    .dataframe tbody tr th {\n",
              "        vertical-align: top;\n",
              "    }\n",
              "\n",
              "    .dataframe thead th {\n",
              "        text-align: right;\n",
              "    }\n",
              "</style>\n",
              "<table border=\"1\" class=\"dataframe\">\n",
              "  <thead>\n",
              "    <tr style=\"text-align: right;\">\n",
              "      <th></th>\n",
              "      <th>order_id</th>\n",
              "      <th>product_id</th>\n",
              "      <th>quantity</th>\n",
              "      <th>manager</th>\n",
              "      <th>date</th>\n",
              "      <th>client_id</th>\n",
              "      <th>status</th>\n",
              "      <th>name</th>\n",
              "      <th>price</th>\n",
              "      <th>category</th>\n",
              "      <th>currency_rate</th>\n",
              "      <th>price_rub</th>\n",
              "      <th>revenue</th>\n",
              "    </tr>\n",
              "  </thead>\n",
              "  <tbody>\n",
              "    <tr>\n",
              "      <th>0</th>\n",
              "      <td>UAKD-95751033</td>\n",
              "      <td>580</td>\n",
              "      <td>6</td>\n",
              "      <td>Ксения Балалайкина</td>\n",
              "      <td>2024-03-26</td>\n",
              "      <td>61</td>\n",
              "      <td>confirmed</td>\n",
              "      <td>JBL, PartyBox 300</td>\n",
              "      <td>440.53</td>\n",
              "      <td>Музыкальный центр</td>\n",
              "      <td>92.7761</td>\n",
              "      <td>40870.655333</td>\n",
              "      <td>2.452239e+05</td>\n",
              "    </tr>\n",
              "    <tr>\n",
              "      <th>1</th>\n",
              "      <td>UAKD-95751033</td>\n",
              "      <td>812</td>\n",
              "      <td>24</td>\n",
              "      <td>Ксения Балалайкина</td>\n",
              "      <td>2024-03-26</td>\n",
              "      <td>61</td>\n",
              "      <td>confirmed</td>\n",
              "      <td>Klipsch, Cinema 400</td>\n",
              "      <td>246.34</td>\n",
              "      <td>Саундбар</td>\n",
              "      <td>92.7761</td>\n",
              "      <td>22854.464474</td>\n",
              "      <td>5.485071e+05</td>\n",
              "    </tr>\n",
              "    <tr>\n",
              "      <th>2</th>\n",
              "      <td>UAKD-95751033</td>\n",
              "      <td>145</td>\n",
              "      <td>9</td>\n",
              "      <td>Ксения Балалайкина</td>\n",
              "      <td>2024-03-26</td>\n",
              "      <td>61</td>\n",
              "      <td>confirmed</td>\n",
              "      <td>Dali, Oberon 7 C</td>\n",
              "      <td>1640.45</td>\n",
              "      <td>Напольная акустика</td>\n",
              "      <td>92.7761</td>\n",
              "      <td>152194.553245</td>\n",
              "      <td>1.369751e+06</td>\n",
              "    </tr>\n",
              "    <tr>\n",
              "      <th>3</th>\n",
              "      <td>UAKD-95751033</td>\n",
              "      <td>194</td>\n",
              "      <td>6</td>\n",
              "      <td>Ксения Балалайкина</td>\n",
              "      <td>2024-03-26</td>\n",
              "      <td>61</td>\n",
              "      <td>confirmed</td>\n",
              "      <td>Dali, Oberon Vokal</td>\n",
              "      <td>462.20</td>\n",
              "      <td>Центральный канал</td>\n",
              "      <td>92.7761</td>\n",
              "      <td>42881.113420</td>\n",
              "      <td>2.572867e+05</td>\n",
              "    </tr>\n",
              "    <tr>\n",
              "      <th>4</th>\n",
              "      <td>UAKD-95751033</td>\n",
              "      <td>1086</td>\n",
              "      <td>3</td>\n",
              "      <td>Ксения Балалайкина</td>\n",
              "      <td>2024-03-26</td>\n",
              "      <td>61</td>\n",
              "      <td>confirmed</td>\n",
              "      <td>Pioneer, Elite VSX-LX503</td>\n",
              "      <td>879.52</td>\n",
              "      <td>AV-ресивер</td>\n",
              "      <td>92.7761</td>\n",
              "      <td>81598.435472</td>\n",
              "      <td>2.447953e+05</td>\n",
              "    </tr>\n",
              "    <tr>\n",
              "      <th>...</th>\n",
              "      <td>...</td>\n",
              "      <td>...</td>\n",
              "      <td>...</td>\n",
              "      <td>...</td>\n",
              "      <td>...</td>\n",
              "      <td>...</td>\n",
              "      <td>...</td>\n",
              "      <td>...</td>\n",
              "      <td>...</td>\n",
              "      <td>...</td>\n",
              "      <td>...</td>\n",
              "      <td>...</td>\n",
              "      <td>...</td>\n",
              "    </tr>\n",
              "    <tr>\n",
              "      <th>4598</th>\n",
              "      <td>HCNJ-19162518</td>\n",
              "      <td>556</td>\n",
              "      <td>24</td>\n",
              "      <td>Максим Барабанов</td>\n",
              "      <td>2024-03-08</td>\n",
              "      <td>54</td>\n",
              "      <td>confirmed</td>\n",
              "      <td>JBL, PartyBox 100</td>\n",
              "      <td>308.99</td>\n",
              "      <td>Беспроводная акустика</td>\n",
              "      <td>90.7493</td>\n",
              "      <td>28040.626207</td>\n",
              "      <td>6.729750e+05</td>\n",
              "    </tr>\n",
              "    <tr>\n",
              "      <th>4599</th>\n",
              "      <td>HCNJ-19162518</td>\n",
              "      <td>1594</td>\n",
              "      <td>10</td>\n",
              "      <td>Максим Барабанов</td>\n",
              "      <td>2024-03-08</td>\n",
              "      <td>54</td>\n",
              "      <td>confirmed</td>\n",
              "      <td>Yamaha, TW-E5A</td>\n",
              "      <td>170.30</td>\n",
              "      <td>Беспроводные наушники</td>\n",
              "      <td>90.7493</td>\n",
              "      <td>15454.605790</td>\n",
              "      <td>1.545461e+05</td>\n",
              "    </tr>\n",
              "    <tr>\n",
              "      <th>4600</th>\n",
              "      <td>HCNJ-19162518</td>\n",
              "      <td>520</td>\n",
              "      <td>5</td>\n",
              "      <td>Максим Барабанов</td>\n",
              "      <td>2024-03-08</td>\n",
              "      <td>54</td>\n",
              "      <td>confirmed</td>\n",
              "      <td>Heco, KaraFun 100</td>\n",
              "      <td>172.11</td>\n",
              "      <td>Система караоке</td>\n",
              "      <td>90.7493</td>\n",
              "      <td>15618.862023</td>\n",
              "      <td>7.809431e+04</td>\n",
              "    </tr>\n",
              "    <tr>\n",
              "      <th>4601</th>\n",
              "      <td>HCNJ-19162518</td>\n",
              "      <td>601</td>\n",
              "      <td>5</td>\n",
              "      <td>Максим Барабанов</td>\n",
              "      <td>2024-03-08</td>\n",
              "      <td>54</td>\n",
              "      <td>confirmed</td>\n",
              "      <td>JBL, Quantum 300</td>\n",
              "      <td>71.28</td>\n",
              "      <td>Наушники с микрофоном</td>\n",
              "      <td>90.7493</td>\n",
              "      <td>6468.610104</td>\n",
              "      <td>3.234305e+04</td>\n",
              "    </tr>\n",
              "    <tr>\n",
              "      <th>4602</th>\n",
              "      <td>HCNJ-19162518</td>\n",
              "      <td>1008</td>\n",
              "      <td>11</td>\n",
              "      <td>Максим Барабанов</td>\n",
              "      <td>2024-03-08</td>\n",
              "      <td>54</td>\n",
              "      <td>confirmed</td>\n",
              "      <td>Monitor Audio, Silver W12</td>\n",
              "      <td>672.37</td>\n",
              "      <td>Сабвуфер</td>\n",
              "      <td>90.7493</td>\n",
              "      <td>61017.106841</td>\n",
              "      <td>6.711882e+05</td>\n",
              "    </tr>\n",
              "  </tbody>\n",
              "</table>\n",
              "<p>4603 rows × 13 columns</p>\n",
              "</div>"
            ],
            "text/plain": [
              "           order_id  product_id  quantity             manager       date  \\\n",
              "0     UAKD-95751033         580         6  Ксения Балалайкина 2024-03-26   \n",
              "1     UAKD-95751033         812        24  Ксения Балалайкина 2024-03-26   \n",
              "2     UAKD-95751033         145         9  Ксения Балалайкина 2024-03-26   \n",
              "3     UAKD-95751033         194         6  Ксения Балалайкина 2024-03-26   \n",
              "4     UAKD-95751033        1086         3  Ксения Балалайкина 2024-03-26   \n",
              "...             ...         ...       ...                 ...        ...   \n",
              "4598  HCNJ-19162518         556        24    Максим Барабанов 2024-03-08   \n",
              "4599  HCNJ-19162518        1594        10    Максим Барабанов 2024-03-08   \n",
              "4600  HCNJ-19162518         520         5    Максим Барабанов 2024-03-08   \n",
              "4601  HCNJ-19162518         601         5    Максим Барабанов 2024-03-08   \n",
              "4602  HCNJ-19162518        1008        11    Максим Барабанов 2024-03-08   \n",
              "\n",
              "      client_id     status                       name    price  \\\n",
              "0            61  confirmed          JBL, PartyBox 300   440.53   \n",
              "1            61  confirmed        Klipsch, Cinema 400   246.34   \n",
              "2            61  confirmed           Dali, Oberon 7 C  1640.45   \n",
              "3            61  confirmed         Dali, Oberon Vokal   462.20   \n",
              "4            61  confirmed   Pioneer, Elite VSX-LX503   879.52   \n",
              "...         ...        ...                        ...      ...   \n",
              "4598         54  confirmed          JBL, PartyBox 100   308.99   \n",
              "4599         54  confirmed             Yamaha, TW-E5A   170.30   \n",
              "4600         54  confirmed          Heco, KaraFun 100   172.11   \n",
              "4601         54  confirmed           JBL, Quantum 300    71.28   \n",
              "4602         54  confirmed  Monitor Audio, Silver W12   672.37   \n",
              "\n",
              "                   category  currency_rate      price_rub       revenue  \n",
              "0         Музыкальный центр        92.7761   40870.655333  2.452239e+05  \n",
              "1                  Саундбар        92.7761   22854.464474  5.485071e+05  \n",
              "2        Напольная акустика        92.7761  152194.553245  1.369751e+06  \n",
              "3         Центральный канал        92.7761   42881.113420  2.572867e+05  \n",
              "4                AV-ресивер        92.7761   81598.435472  2.447953e+05  \n",
              "...                     ...            ...            ...           ...  \n",
              "4598  Беспроводная акустика        90.7493   28040.626207  6.729750e+05  \n",
              "4599  Беспроводные наушники        90.7493   15454.605790  1.545461e+05  \n",
              "4600        Система караоке        90.7493   15618.862023  7.809431e+04  \n",
              "4601  Наушники с микрофоном        90.7493    6468.610104  3.234305e+04  \n",
              "4602               Сабвуфер        90.7493   61017.106841  6.711882e+05  \n",
              "\n",
              "[4603 rows x 13 columns]"
            ]
          },
          "execution_count": 21,
          "metadata": {},
          "output_type": "execute_result"
        }
      ],
      "source": [
        "df_full = pd.merge(orders_status, df_products,\n",
        "                                  left_on='product_id', right_on='id',\n",
        "                                  how='inner')\n",
        "df_full = pd.merge(df_full, df_dollar,\n",
        "                                  on='date',\n",
        "                                  how='inner')\n",
        "df_full = df_full.drop(columns=['id'])\n",
        "\n",
        "df_full['price_rub'] = (df_full.price * df_full.currency_rate)\n",
        "df_full['revenue'] = (df_full.price_rub * df_full.quantity)\n",
        "df_confirmed = df_full.query('status == \"confirmed\"')\n",
        "average_revenue = df_confirmed.revenue.sum().round(2)\n",
        "df_full"
      ],
      "id": "7rmJQX1MefCd"
    },
    {
      "cell_type": "code",
      "execution_count": null,
      "metadata": {
        "id": "Wf20i7iqefCd",
        "outputId": "ef27ea01-6992-4f56-ef73-f17c3270c0ff"
      },
      "outputs": [
        {
          "name": "stdout",
          "output_type": "stream",
          "text": [
            "2038231821.56\n"
          ]
        }
      ],
      "source": [
        "print(average_revenue)"
      ],
      "id": "Wf20i7iqefCd"
    },
    {
      "cell_type": "markdown",
      "metadata": {
        "id": "rT7lzO9vefCe"
      },
      "source": [
        "**Общая выручка - 2 038 231 821 руб.**"
      ],
      "id": "rT7lzO9vefCe"
    },
    {
      "cell_type": "markdown",
      "metadata": {
        "id": "AHc37XvdefCe"
      },
      "source": [
        "## Шаг 13"
      ],
      "id": "AHc37XvdefCe"
    },
    {
      "cell_type": "markdown",
      "metadata": {
        "id": "jfsgWL6TefCe"
      },
      "source": [
        "**Следующая метрика, которую вам нужно посчитать — средний чек в этом месяце (в рублях).** Разделите общую выручку на количество заказов. Результат округлите до двух знаков после точки."
      ],
      "id": "jfsgWL6TefCe"
    },
    {
      "cell_type": "code",
      "execution_count": null,
      "metadata": {
        "id": "dnXXA6luefCe",
        "outputId": "ac035fbb-73f4-4a2b-ba8e-7e15cf7dc387"
      },
      "outputs": [
        {
          "data": {
            "text/plain": [
              "6596219.49"
            ]
          },
          "execution_count": 171,
          "metadata": {},
          "output_type": "execute_result"
        }
      ],
      "source": [
        "# Ваш код здесь\n",
        "unique_orders = df_full.query('status == \"confirmed\"').order_id.nunique()\n",
        "average_check = (average_revenue / unique_orders).round(2)\n",
        "average_check"
      ],
      "id": "dnXXA6luefCe"
    },
    {
      "cell_type": "markdown",
      "metadata": {
        "id": "VCmkSw96efCe"
      },
      "source": [
        "**Средний чек в этом месяце - 6 596 219 руб.**"
      ],
      "id": "VCmkSw96efCe"
    },
    {
      "cell_type": "markdown",
      "metadata": {
        "id": "9o-YIDNSefCe"
      },
      "source": [
        "## Шаг 14"
      ],
      "id": "9o-YIDNSefCe"
    },
    {
      "cell_type": "markdown",
      "metadata": {
        "id": "YY1kpCOLefCe"
      },
      "source": [
        "Ключевые метрики месяца вы посчитали, теперь попробуйте посмотреть на их динамику внутри месяца: посчитайте выручку, средний чек и число заказов — на каждый день. Посмотрите на графики и выберите верные ответы:\n",
        "\n",
        "- число заказов и выручка каждый день изменяются в одинаковом направлении (если в этот день число заказов выросло, то и выручка выросла; число заказов упало — в этот же день упала и выручка)  \n",
        "- число заказов и выручка не каждый день изменяются в одинаковом направлении (если в какой-то день число заказов выросло, то выручка может упасть, и наоборот: число заказов упало — в этот же день выручка выросла)  \n",
        "- средний чек и выручка каждый день изменяются в одинаковом направлении (если в этот день средний чек вырос, то и выручка выросла; средний чек упал — в этот же день упала и выручка)  \n",
        "- средний чек и выручка не каждый день изменяются в одинаковом направлении (если в какой-то день средний чек вырос, то выручка может упасть, и наоборот: средний чек упал — в этот же день выручка выросла)  \n",
        "- в день с наибольшим числом заказов и выручка, и средний чек также показывают максимальное значение  \n",
        "- в день с наибольшим числом заказов выручка и/или средний чек не показывают максимальное значение  \n",
        "- с течением времени выручка то увеличивается, то уменьшается  \n",
        "- с течением времени выручка только увеличивается  \n",
        "- на протяжении всего месяца средний чек то увеличивается, то уменьшается  \n",
        "- средний чек на протяжении всего месяца имеет одинаковое значение"
      ],
      "id": "YY1kpCOLefCe"
    },
    {
      "cell_type": "code",
      "execution_count": null,
      "metadata": {
        "id": "7nwGCiFDefCf",
        "outputId": "0d15d18a-91fa-4713-8705-8ba3acddf985"
      },
      "outputs": [
        {
          "data": {
            "text/html": [
              "<div>\n",
              "<style scoped>\n",
              "    .dataframe tbody tr th:only-of-type {\n",
              "        vertical-align: middle;\n",
              "    }\n",
              "\n",
              "    .dataframe tbody tr th {\n",
              "        vertical-align: top;\n",
              "    }\n",
              "\n",
              "    .dataframe thead th {\n",
              "        text-align: right;\n",
              "    }\n",
              "</style>\n",
              "<table border=\"1\" class=\"dataframe\">\n",
              "  <thead>\n",
              "    <tr style=\"text-align: right;\">\n",
              "      <th></th>\n",
              "      <th>date</th>\n",
              "      <th>orders</th>\n",
              "      <th>revenue</th>\n",
              "      <th>avg_check</th>\n",
              "    </tr>\n",
              "  </thead>\n",
              "  <tbody>\n",
              "    <tr>\n",
              "      <th>0</th>\n",
              "      <td>2024-03-01</td>\n",
              "      <td>20</td>\n",
              "      <td>1.554118e+08</td>\n",
              "      <td>7770587.80</td>\n",
              "    </tr>\n",
              "    <tr>\n",
              "      <th>1</th>\n",
              "      <td>2024-03-02</td>\n",
              "      <td>2</td>\n",
              "      <td>1.197167e+07</td>\n",
              "      <td>5985834.26</td>\n",
              "    </tr>\n",
              "    <tr>\n",
              "      <th>2</th>\n",
              "      <td>2024-03-03</td>\n",
              "      <td>1</td>\n",
              "      <td>2.548418e+06</td>\n",
              "      <td>2548418.42</td>\n",
              "    </tr>\n",
              "    <tr>\n",
              "      <th>3</th>\n",
              "      <td>2024-03-04</td>\n",
              "      <td>10</td>\n",
              "      <td>6.404993e+07</td>\n",
              "      <td>6404992.56</td>\n",
              "    </tr>\n",
              "    <tr>\n",
              "      <th>4</th>\n",
              "      <td>2024-03-05</td>\n",
              "      <td>18</td>\n",
              "      <td>8.952724e+07</td>\n",
              "      <td>4973735.46</td>\n",
              "    </tr>\n",
              "    <tr>\n",
              "      <th>5</th>\n",
              "      <td>2024-03-06</td>\n",
              "      <td>13</td>\n",
              "      <td>1.107687e+08</td>\n",
              "      <td>8520669.46</td>\n",
              "    </tr>\n",
              "    <tr>\n",
              "      <th>6</th>\n",
              "      <td>2024-03-07</td>\n",
              "      <td>13</td>\n",
              "      <td>9.102331e+07</td>\n",
              "      <td>7001792.83</td>\n",
              "    </tr>\n",
              "    <tr>\n",
              "      <th>7</th>\n",
              "      <td>2024-03-08</td>\n",
              "      <td>1</td>\n",
              "      <td>1.609147e+06</td>\n",
              "      <td>1609146.62</td>\n",
              "    </tr>\n",
              "    <tr>\n",
              "      <th>8</th>\n",
              "      <td>2024-03-10</td>\n",
              "      <td>2</td>\n",
              "      <td>8.929309e+06</td>\n",
              "      <td>4464654.57</td>\n",
              "    </tr>\n",
              "    <tr>\n",
              "      <th>9</th>\n",
              "      <td>2024-03-11</td>\n",
              "      <td>11</td>\n",
              "      <td>8.910847e+07</td>\n",
              "      <td>8100769.59</td>\n",
              "    </tr>\n",
              "    <tr>\n",
              "      <th>10</th>\n",
              "      <td>2024-03-12</td>\n",
              "      <td>13</td>\n",
              "      <td>8.761460e+07</td>\n",
              "      <td>6739584.34</td>\n",
              "    </tr>\n",
              "    <tr>\n",
              "      <th>11</th>\n",
              "      <td>2024-03-13</td>\n",
              "      <td>5</td>\n",
              "      <td>3.669156e+07</td>\n",
              "      <td>7338312.01</td>\n",
              "    </tr>\n",
              "    <tr>\n",
              "      <th>12</th>\n",
              "      <td>2024-03-14</td>\n",
              "      <td>34</td>\n",
              "      <td>2.222701e+08</td>\n",
              "      <td>6537354.64</td>\n",
              "    </tr>\n",
              "    <tr>\n",
              "      <th>13</th>\n",
              "      <td>2024-03-15</td>\n",
              "      <td>16</td>\n",
              "      <td>1.017893e+08</td>\n",
              "      <td>6361830.49</td>\n",
              "    </tr>\n",
              "    <tr>\n",
              "      <th>14</th>\n",
              "      <td>2024-03-16</td>\n",
              "      <td>2</td>\n",
              "      <td>9.047641e+06</td>\n",
              "      <td>4523820.74</td>\n",
              "    </tr>\n",
              "    <tr>\n",
              "      <th>15</th>\n",
              "      <td>2024-03-17</td>\n",
              "      <td>3</td>\n",
              "      <td>1.940970e+07</td>\n",
              "      <td>6469901.26</td>\n",
              "    </tr>\n",
              "    <tr>\n",
              "      <th>16</th>\n",
              "      <td>2024-03-18</td>\n",
              "      <td>12</td>\n",
              "      <td>8.597545e+07</td>\n",
              "      <td>7164621.21</td>\n",
              "    </tr>\n",
              "    <tr>\n",
              "      <th>17</th>\n",
              "      <td>2024-03-19</td>\n",
              "      <td>13</td>\n",
              "      <td>6.293272e+07</td>\n",
              "      <td>4840978.80</td>\n",
              "    </tr>\n",
              "    <tr>\n",
              "      <th>18</th>\n",
              "      <td>2024-03-20</td>\n",
              "      <td>12</td>\n",
              "      <td>1.139748e+08</td>\n",
              "      <td>9497902.06</td>\n",
              "    </tr>\n",
              "    <tr>\n",
              "      <th>19</th>\n",
              "      <td>2024-03-21</td>\n",
              "      <td>11</td>\n",
              "      <td>5.682809e+07</td>\n",
              "      <td>5166190.42</td>\n",
              "    </tr>\n",
              "    <tr>\n",
              "      <th>20</th>\n",
              "      <td>2024-03-22</td>\n",
              "      <td>16</td>\n",
              "      <td>9.568885e+07</td>\n",
              "      <td>5980553.21</td>\n",
              "    </tr>\n",
              "    <tr>\n",
              "      <th>21</th>\n",
              "      <td>2024-03-23</td>\n",
              "      <td>3</td>\n",
              "      <td>2.837648e+07</td>\n",
              "      <td>9458826.55</td>\n",
              "    </tr>\n",
              "    <tr>\n",
              "      <th>22</th>\n",
              "      <td>2024-03-24</td>\n",
              "      <td>2</td>\n",
              "      <td>1.242083e+07</td>\n",
              "      <td>6210417.19</td>\n",
              "    </tr>\n",
              "    <tr>\n",
              "      <th>23</th>\n",
              "      <td>2024-03-25</td>\n",
              "      <td>8</td>\n",
              "      <td>5.620121e+07</td>\n",
              "      <td>7025151.67</td>\n",
              "    </tr>\n",
              "    <tr>\n",
              "      <th>24</th>\n",
              "      <td>2024-03-26</td>\n",
              "      <td>16</td>\n",
              "      <td>9.679371e+07</td>\n",
              "      <td>6049606.85</td>\n",
              "    </tr>\n",
              "    <tr>\n",
              "      <th>25</th>\n",
              "      <td>2024-03-27</td>\n",
              "      <td>18</td>\n",
              "      <td>1.106289e+08</td>\n",
              "      <td>6146051.91</td>\n",
              "    </tr>\n",
              "    <tr>\n",
              "      <th>26</th>\n",
              "      <td>2024-03-28</td>\n",
              "      <td>12</td>\n",
              "      <td>7.369507e+07</td>\n",
              "      <td>6141256.15</td>\n",
              "    </tr>\n",
              "    <tr>\n",
              "      <th>27</th>\n",
              "      <td>2024-03-29</td>\n",
              "      <td>19</td>\n",
              "      <td>1.265465e+08</td>\n",
              "      <td>6660341.01</td>\n",
              "    </tr>\n",
              "    <tr>\n",
              "      <th>28</th>\n",
              "      <td>2024-03-30</td>\n",
              "      <td>2</td>\n",
              "      <td>1.106604e+07</td>\n",
              "      <td>5533021.74</td>\n",
              "    </tr>\n",
              "    <tr>\n",
              "      <th>29</th>\n",
              "      <td>2024-03-31</td>\n",
              "      <td>1</td>\n",
              "      <td>5.332319e+06</td>\n",
              "      <td>5332318.74</td>\n",
              "    </tr>\n",
              "  </tbody>\n",
              "</table>\n",
              "</div>"
            ],
            "text/plain": [
              "         date  orders       revenue   avg_check\n",
              "0  2024-03-01      20  1.554118e+08  7770587.80\n",
              "1  2024-03-02       2  1.197167e+07  5985834.26\n",
              "2  2024-03-03       1  2.548418e+06  2548418.42\n",
              "3  2024-03-04      10  6.404993e+07  6404992.56\n",
              "4  2024-03-05      18  8.952724e+07  4973735.46\n",
              "5  2024-03-06      13  1.107687e+08  8520669.46\n",
              "6  2024-03-07      13  9.102331e+07  7001792.83\n",
              "7  2024-03-08       1  1.609147e+06  1609146.62\n",
              "8  2024-03-10       2  8.929309e+06  4464654.57\n",
              "9  2024-03-11      11  8.910847e+07  8100769.59\n",
              "10 2024-03-12      13  8.761460e+07  6739584.34\n",
              "11 2024-03-13       5  3.669156e+07  7338312.01\n",
              "12 2024-03-14      34  2.222701e+08  6537354.64\n",
              "13 2024-03-15      16  1.017893e+08  6361830.49\n",
              "14 2024-03-16       2  9.047641e+06  4523820.74\n",
              "15 2024-03-17       3  1.940970e+07  6469901.26\n",
              "16 2024-03-18      12  8.597545e+07  7164621.21\n",
              "17 2024-03-19      13  6.293272e+07  4840978.80\n",
              "18 2024-03-20      12  1.139748e+08  9497902.06\n",
              "19 2024-03-21      11  5.682809e+07  5166190.42\n",
              "20 2024-03-22      16  9.568885e+07  5980553.21\n",
              "21 2024-03-23       3  2.837648e+07  9458826.55\n",
              "22 2024-03-24       2  1.242083e+07  6210417.19\n",
              "23 2024-03-25       8  5.620121e+07  7025151.67\n",
              "24 2024-03-26      16  9.679371e+07  6049606.85\n",
              "25 2024-03-27      18  1.106289e+08  6146051.91\n",
              "26 2024-03-28      12  7.369507e+07  6141256.15\n",
              "27 2024-03-29      19  1.265465e+08  6660341.01\n",
              "28 2024-03-30       2  1.106604e+07  5533021.74\n",
              "29 2024-03-31       1  5.332319e+06  5332318.74"
            ]
          },
          "execution_count": 23,
          "metadata": {},
          "output_type": "execute_result"
        }
      ],
      "source": [
        "df_report_by_date = df_confirmed.query('status == \"confirmed\"').groupby('date').agg({'order_id':'nunique', 'revenue':'sum'},\n",
        "                                                                                   as_index = False)\n",
        "df_report_by_date = df_report_by_date.rename(columns={'order_id':'orders'})\n",
        "df_report_by_date['avg_check'] = (df_report_by_date.revenue / df_report_by_date.orders).round(2)\n",
        "df_report_by_date = df_report_by_date.reset_index()\n",
        "df_report_by_date"
      ],
      "id": "7nwGCiFDefCf"
    },
    {
      "cell_type": "code",
      "execution_count": null,
      "metadata": {
        "id": "J2H-CHJEefCf",
        "outputId": "689b398f-e07e-4183-f09f-28f9fa7c4d86"
      },
      "outputs": [
        {
          "data": {
            "image/png": "[encoded data removed]",
            "text/plain": [
              "<Figure size 1152x360 with 1 Axes>"
            ]
          },
          "metadata": {
            "needs_background": "light"
          },
          "output_type": "display_data"
        },
        {
          "data": {
            "image/png": "[encoded data removed]",
            "text/plain": [
              "<Figure size 1152x360 with 1 Axes>"
            ]
          },
          "metadata": {
            "needs_background": "light"
          },
          "output_type": "display_data"
        },
        {
          "data": {
            "image/png": "[encoded data removed]",
            "text/plain": [
              "<Figure size 1152x360 with 1 Axes>"
            ]
          },
          "metadata": {
            "needs_background": "light"
          },
          "output_type": "display_data"
        }
      ],
      "source": [
        "plt.figure(figsize=(16, 5))\n",
        "plt.plot(df_report_by_date.date, df_report_by_date.orders, c='b')\n",
        "plt.grid(True)\n",
        "\n",
        "plt.figure(figsize=(16, 5))\n",
        "plt.plot(df_report_by_date.date, df_report_by_date.revenue, c='r')\n",
        "plt.grid(True)\n",
        "\n",
        "plt.figure(figsize=(16, 5))\n",
        "plt.plot(df_report_by_date.date, df_report_by_date.avg_check, c='g')\n",
        "plt.grid(True)"
      ],
      "id": "J2H-CHJEefCf"
    },
    {
      "cell_type": "markdown",
      "metadata": {
        "id": "xfGm9cQQefCf"
      },
      "source": [
        "**Ответ:**\n",
        "- **число заказов и выручка не каждый день изменяются в одинаковом направлении (если в какой-то день число заказов выросло, то выручка может упасть, и наоборот: число заказов упало — в этот же день выручка выросла)**\n",
        "- **средний чек и выручка не каждый день изменяются в одинаковом направлении (если в какой-то день средний чек вырос, то выручка может упасть, и наоборот: средний чек упал — в этот же день выручка выросла)**\n",
        "- **в день с наибольшим числом заказов выручка и/или средний чек не показывают максимальное значение**\n",
        "- **с течением времени выручка то увеличивается, то уменьшается**\n",
        "- **на протяжении всего месяца средний чек то увеличивается, то уменьшается**"
      ],
      "id": "xfGm9cQQefCf"
    },
    {
      "cell_type": "markdown",
      "metadata": {
        "id": "bdhCc5E4efCf"
      },
      "source": [
        "### Проанализируем интерес клиентов к брендам"
      ],
      "id": "bdhCc5E4efCf"
    },
    {
      "cell_type": "markdown",
      "metadata": {
        "id": "7enSAvL2efCf"
      },
      "source": [
        "## Шаг 15"
      ],
      "id": "7enSAvL2efCf"
    },
    {
      "cell_type": "markdown",
      "metadata": {
        "id": "iQyTZvhhefCf"
      },
      "source": [
        "К вам снова обратился руководитель отдела продаж. Он хочет разобраться, какие бренды востребованы среди клиентов, а какие — нет. На основе данных о названиях товаров в датафрейме `df_full` создайте новую колонку `brand`, где будет только название бренда. **Посчитайте, сколькими брендами интересовались клиенты** (статус заказа здесь не важен, если запись о бренде попала в данные о заказах, значит клиент заказал или хотел заказать товар этого бренда)."
      ],
      "id": "iQyTZvhhefCf"
    },
    {
      "cell_type": "code",
      "execution_count": null,
      "metadata": {
        "id": "hnAY6t2FefCf",
        "outputId": "ed71a098-20cc-4270-d7e2-dca8a1136fea"
      },
      "outputs": [
        {
          "data": {
            "text/plain": [
              "121"
            ]
          },
          "execution_count": 25,
          "metadata": {},
          "output_type": "execute_result"
        }
      ],
      "source": [
        "df_full['brand'] = df_full['name'].apply(lambda x: x.split(\",\")[0])\n",
        "df_full.brand.nunique()"
      ],
      "id": "hnAY6t2FefCf"
    },
    {
      "cell_type": "markdown",
      "metadata": {
        "id": "cqzek1LyefCg"
      },
      "source": [
        "**Клиенты интересовались 121 брендом.**"
      ],
      "id": "cqzek1LyefCg"
    },
    {
      "cell_type": "markdown",
      "metadata": {
        "id": "DJvltb_CefCg"
      },
      "source": [
        "## Шаг 16"
      ],
      "id": "DJvltb_CefCg"
    },
    {
      "cell_type": "markdown",
      "metadata": {
        "id": "5laQXGPNefCg"
      },
      "source": [
        "Посчитайте, какую выручку принес каждый бренд и в скольких подтвержденных заказах были товары этого бренда. **Определите, какой бренд принес наибольшую выручку.** В ответ укажите его название."
      ],
      "id": "5laQXGPNefCg"
    },
    {
      "cell_type": "code",
      "execution_count": null,
      "metadata": {
        "id": "69ezYUnoefCg",
        "outputId": "b2bf7a64-6d6a-4ffd-fb0e-b40fcb1f963d"
      },
      "outputs": [
        {
          "data": {
            "text/html": [
              "<div>\n",
              "<style scoped>\n",
              "    .dataframe tbody tr th:only-of-type {\n",
              "        vertical-align: middle;\n",
              "    }\n",
              "\n",
              "    .dataframe tbody tr th {\n",
              "        vertical-align: top;\n",
              "    }\n",
              "\n",
              "    .dataframe thead th {\n",
              "        text-align: right;\n",
              "    }\n",
              "</style>\n",
              "<table border=\"1\" class=\"dataframe\">\n",
              "  <thead>\n",
              "    <tr style=\"text-align: right;\">\n",
              "      <th></th>\n",
              "      <th>brand</th>\n",
              "      <th>revenue</th>\n",
              "      <th>order_id</th>\n",
              "    </tr>\n",
              "  </thead>\n",
              "  <tbody>\n",
              "    <tr>\n",
              "      <th>46</th>\n",
              "      <td>JBL</td>\n",
              "      <td>2.665961e+08</td>\n",
              "      <td>264</td>\n",
              "    </tr>\n",
              "    <tr>\n",
              "      <th>43</th>\n",
              "      <td>Heco</td>\n",
              "      <td>2.388163e+08</td>\n",
              "      <td>229</td>\n",
              "    </tr>\n",
              "    <tr>\n",
              "      <th>120</th>\n",
              "      <td>Yamaha</td>\n",
              "      <td>1.658651e+08</td>\n",
              "      <td>218</td>\n",
              "    </tr>\n",
              "    <tr>\n",
              "      <th>53</th>\n",
              "      <td>Klipsch</td>\n",
              "      <td>2.039024e+08</td>\n",
              "      <td>205</td>\n",
              "    </tr>\n",
              "    <tr>\n",
              "      <th>62</th>\n",
              "      <td>Magnat</td>\n",
              "      <td>1.141989e+08</td>\n",
              "      <td>154</td>\n",
              "    </tr>\n",
              "    <tr>\n",
              "      <th>...</th>\n",
              "      <td>...</td>\n",
              "      <td>...</td>\n",
              "      <td>...</td>\n",
              "    </tr>\n",
              "    <tr>\n",
              "      <th>52</th>\n",
              "      <td>Karaoke USA</td>\n",
              "      <td>1.639025e+05</td>\n",
              "      <td>1</td>\n",
              "    </tr>\n",
              "    <tr>\n",
              "      <th>24</th>\n",
              "      <td>Creative</td>\n",
              "      <td>1.001419e+04</td>\n",
              "      <td>1</td>\n",
              "    </tr>\n",
              "    <tr>\n",
              "      <th>97</th>\n",
              "      <td>Sonance</td>\n",
              "      <td>7.991302e+05</td>\n",
              "      <td>1</td>\n",
              "    </tr>\n",
              "    <tr>\n",
              "      <th>107</th>\n",
              "      <td>Technics</td>\n",
              "      <td>2.648291e+05</td>\n",
              "      <td>1</td>\n",
              "    </tr>\n",
              "    <tr>\n",
              "      <th>25</th>\n",
              "      <td>Crown</td>\n",
              "      <td>9.184515e+04</td>\n",
              "      <td>1</td>\n",
              "    </tr>\n",
              "  </tbody>\n",
              "</table>\n",
              "<p>121 rows × 3 columns</p>\n",
              "</div>"
            ],
            "text/plain": [
              "           brand       revenue  order_id\n",
              "46           JBL  2.665961e+08       264\n",
              "43          Heco  2.388163e+08       229\n",
              "120       Yamaha  1.658651e+08       218\n",
              "53       Klipsch  2.039024e+08       205\n",
              "62        Magnat  1.141989e+08       154\n",
              "..           ...           ...       ...\n",
              "52   Karaoke USA  1.639025e+05         1\n",
              "24      Creative  1.001419e+04         1\n",
              "97       Sonance  7.991302e+05         1\n",
              "107     Technics  2.648291e+05         1\n",
              "25         Crown  9.184515e+04         1\n",
              "\n",
              "[121 rows x 3 columns]"
            ]
          },
          "execution_count": 26,
          "metadata": {},
          "output_type": "execute_result"
        }
      ],
      "source": [
        "df_full.query('status == \"confirmed\"') \\\n",
        "        .groupby('brand', as_index=False) \\\n",
        "        .agg({'revenue':'sum', 'order_id':'nunique'}) \\\n",
        "        .sort_values('order_id', ascending=False)"
      ],
      "id": "69ezYUnoefCg"
    },
    {
      "cell_type": "markdown",
      "metadata": {
        "id": "5IlqzqnmefCg"
      },
      "source": [
        "**Бренд *JBL* принес наибольшую выручку.**"
      ],
      "id": "5IlqzqnmefCg"
    },
    {
      "cell_type": "markdown",
      "metadata": {
        "id": "bgUubuiPefCg"
      },
      "source": [
        "## Шаг 17"
      ],
      "id": "bgUubuiPefCg"
    },
    {
      "cell_type": "markdown",
      "metadata": {
        "id": "La_5IjVKefCg"
      },
      "source": [
        "У одних брендов большинство товаров востребовано клиентами, а у других — клиенты заказывают только небольшую часть товаров, а остальные зря занимают виртуальную «полку» в перечне товаров, продаваемых вашей компанией. **Вам нужно определить, какие бренды редко попадают в заказы, хотя товаров таких брендов на самом деле много.**\n",
        "\n",
        "Начнем с того, что определим, какие товары из имеющихся в продаже хоть раз заказывали, а какие — нет. Для этого соберите список из перечня уникальных идентификаторов товаров, которые встречаются в датафрейме `df_confirmed`. После этого для каждого товара в датафрейме `df_products` определите, был ли этот товар в списке заказанных товаров в этом месяце или нет: создайте новую колонку `is_in_orders` и заполните её соответственно значениями `yes` или `no` для каждого товара.\n",
        "\n",
        "**В ответе укажите, сколько товаров были заказаны, а сколько — не были**"
      ],
      "id": "La_5IjVKefCg"
    },
    {
      "cell_type": "code",
      "execution_count": null,
      "metadata": {
        "id": "PR362WBZefCh",
        "outputId": "6405bacc-9103-4a67-e1a2-e356331e2991"
      },
      "outputs": [
        {
          "data": {
            "text/plain": [
              "is_in_orders\n",
              "no      497\n",
              "yes    1180\n",
              "dtype: int64"
            ]
          },
          "execution_count": 27,
          "metadata": {},
          "output_type": "execute_result"
        }
      ],
      "source": [
        "list_unique = df_confirmed.product_id.unique()\n",
        "df_products['is_in_orders'] = df_products['id'].apply(lambda x: 'yes' if x in list_unique else 'no')\n",
        "df_products.groupby('is_in_orders').size()"
      ],
      "id": "PR362WBZefCh"
    },
    {
      "cell_type": "markdown",
      "metadata": {
        "id": "b2dUIxhxefCh"
      },
      "source": [
        "**Были заказаны - 1180 товаров**\n",
        "\n",
        "**Не были заказаны - 497 товаров**"
      ],
      "id": "b2dUIxhxefCh"
    },
    {
      "cell_type": "markdown",
      "metadata": {
        "id": "uMVTrUWAefCh"
      },
      "source": [
        "## Шаг 18"
      ],
      "id": "uMVTrUWAefCh"
    },
    {
      "cell_type": "markdown",
      "metadata": {
        "id": "UZrI51k5efCh"
      },
      "source": [
        "Примерно треть товаров не была заказана ни разу в этом месяце. Посмотрим на эти данные в разрезе по брендам. **Определите, у каких брендов доля ни разу не заказанных товаров была больше половины от всех продаваемых товаров этого бренда.** Но не берите в расчет бренды, которые представлены маленьким числом товаров (меньше 15), они не захламляют виртуальную «полку».\n",
        "\n",
        "Отметьте бренды, у которых доля ни разу не заказанных товаров была больше половины от всех продаваемых товаров этого бренда:\n",
        "- AKG  \n",
        "- ASUS\n",
        "- Dali  \n",
        "- Emotiva  \n",
        "- KEF  \n",
        "- Marantz  \n",
        "- Onkyo  \n",
        "- Pioneer  \n",
        "- Yaqin"
      ],
      "id": "UZrI51k5efCh"
    },
    {
      "cell_type": "code",
      "execution_count": null,
      "metadata": {
        "id": "pnlmGRhSefCh",
        "outputId": "44a404a4-4353-4192-d727-af1a0a634ed3"
      },
      "outputs": [
        {
          "data": {
            "text/html": [
              "<div>\n",
              "<style scoped>\n",
              "    .dataframe tbody tr th:only-of-type {\n",
              "        vertical-align: middle;\n",
              "    }\n",
              "\n",
              "    .dataframe tbody tr th {\n",
              "        vertical-align: top;\n",
              "    }\n",
              "\n",
              "    .dataframe thead th {\n",
              "        text-align: right;\n",
              "    }\n",
              "</style>\n",
              "<table border=\"1\" class=\"dataframe\">\n",
              "  <thead>\n",
              "    <tr style=\"text-align: right;\">\n",
              "      <th>is_in_orders</th>\n",
              "      <th>brand</th>\n",
              "      <th>no</th>\n",
              "      <th>yes</th>\n",
              "      <th>sum_brands</th>\n",
              "      <th>dole</th>\n",
              "    </tr>\n",
              "  </thead>\n",
              "  <tbody>\n",
              "    <tr>\n",
              "      <th>32</th>\n",
              "      <td>Dali</td>\n",
              "      <td>49.0</td>\n",
              "      <td>18.0</td>\n",
              "      <td>67.0</td>\n",
              "      <td>0.73</td>\n",
              "    </tr>\n",
              "    <tr>\n",
              "      <th>60</th>\n",
              "      <td>KEF</td>\n",
              "      <td>54.0</td>\n",
              "      <td>28.0</td>\n",
              "      <td>82.0</td>\n",
              "      <td>0.66</td>\n",
              "    </tr>\n",
              "    <tr>\n",
              "      <th>77</th>\n",
              "      <td>Marantz</td>\n",
              "      <td>19.0</td>\n",
              "      <td>3.0</td>\n",
              "      <td>22.0</td>\n",
              "      <td>0.86</td>\n",
              "    </tr>\n",
              "    <tr>\n",
              "      <th>94</th>\n",
              "      <td>Pioneer</td>\n",
              "      <td>70.0</td>\n",
              "      <td>33.0</td>\n",
              "      <td>103.0</td>\n",
              "      <td>0.68</td>\n",
              "    </tr>\n",
              "  </tbody>\n",
              "</table>\n",
              "</div>"
            ],
            "text/plain": [
              "is_in_orders    brand    no   yes  sum_brands  dole\n",
              "32               Dali  49.0  18.0        67.0  0.73\n",
              "60                KEF  54.0  28.0        82.0  0.66\n",
              "77            Marantz  19.0   3.0        22.0  0.86\n",
              "94            Pioneer  70.0  33.0       103.0  0.68"
            ]
          },
          "execution_count": 28,
          "metadata": {},
          "output_type": "execute_result"
        }
      ],
      "source": [
        "df_products['brand'] = df_products['name'].apply(lambda x: x.split(\",\")[0])\n",
        "group = df_products.groupby(['brand', 'is_in_orders']).agg({'id':'nunique'}, as_index=False).reset_index().rename(columns={'id':'products'})\n",
        "\n",
        "pivot_products = group.pivot_table(index='brand', columns='is_in_orders', values='products').fillna(0)\n",
        "pivot_products.reset_index(inplace=True)\n",
        "pivot_products['sum_brands'] = pivot_products.no + pivot_products.yes\n",
        "pivot_products['dole'] = (pivot_products.no / pivot_products.sum_brands).round(2)\n",
        "pivot_products.query('sum_brands > 15 and dole > 0.5')"
      ],
      "id": "pnlmGRhSefCh"
    },
    {
      "cell_type": "markdown",
      "metadata": {
        "id": "fA0zfKgyefCh"
      },
      "source": [
        "**Бренды, у которых доля ни разу не заказанных товаров была больше половины от всех продаваемых товаров этого бренда:**\n",
        "- **Dali**\n",
        "- **KEF**\n",
        "- **Marantz**\n",
        "- **Pioneer**"
      ],
      "id": "fA0zfKgyefCh"
    },
    {
      "cell_type": "markdown",
      "metadata": {
        "id": "0tJxKBUJefCh"
      },
      "source": [
        "### Составим отчет по продажам менеджеров"
      ],
      "id": "0tJxKBUJefCh"
    },
    {
      "cell_type": "markdown",
      "metadata": {
        "id": "6bz-RZ_tefCh"
      },
      "source": [
        "## Шаг 19"
      ],
      "id": "6bz-RZ_tefCh"
    },
    {
      "cell_type": "markdown",
      "metadata": {
        "id": "4MwsRnCNefCi"
      },
      "source": [
        "Чтобы компания знала, кого из менеджеров отдела продаж премировать, а с кем провести беседу по итогам месяца, **вас попросили сделать отчет по сделкам каждого менеджера**: сколько он оформил подтвержденных заказов и какую выручку они принесли. Но в абсолютных числах вклад каждого сотрудника может быть непонятен. **Поэтому посчитайте значения в процентах: какой % выручки от общей выручки за месяц приходится на каждого менеджера, и какой % заказов от общего числа заказов.** Посчитайте данные и визуализируйте результат, чтобы принимать решение о поощрении или проведении беседы с менеджерами было удобнее. Выберите верные ответы:\n",
        "\n",
        "- лучшим менеджером по % выручки стала Маргарита Камертонова  \n",
        "- лучшим менеджером по % заказов стала Маргарита Камертонова  \n",
        "- первая пятерка менеджеров по % выручки сильно ушла вперед от всех остальных (явно виден большой разрыв между каждым из первой пятерки и каждым из всех остальных менеджеров)  \n",
        "- в этом месяце нельзя выделить явную пятерку лидеров по % выручки, которые сильно оторвались от остальных  \n",
        "- лидер по % заказов реализовал более 16% заказов  \n",
        "- лидер по % заказов реализовал менее 16% заказов  \n",
        "- наихудшие показатели у Сергея Контрабасова  \n",
        "- наихудшие показатели у Аркадия Октавина  \n",
        "- Антон Скрипкин принес в 3 раза меньше выручки, чем Виктор Тромбонов  \n",
        "- Антон Скрипкин реализовал почти в 3 раза меньше заказов, чем Анастасия Дудкина"
      ],
      "id": "4MwsRnCNefCi"
    },
    {
      "cell_type": "code",
      "execution_count": null,
      "metadata": {
        "id": "FxeXWFsmefCi",
        "outputId": "db4e758a-0f97-4868-9433-62a94afebd61"
      },
      "outputs": [
        {
          "data": {
            "text/html": [
              "<div>\n",
              "<style scoped>\n",
              "    .dataframe tbody tr th:only-of-type {\n",
              "        vertical-align: middle;\n",
              "    }\n",
              "\n",
              "    .dataframe tbody tr th {\n",
              "        vertical-align: top;\n",
              "    }\n",
              "\n",
              "    .dataframe thead th {\n",
              "        text-align: right;\n",
              "    }\n",
              "</style>\n",
              "<table border=\"1\" class=\"dataframe\">\n",
              "  <thead>\n",
              "    <tr style=\"text-align: right;\">\n",
              "      <th></th>\n",
              "      <th>order_id</th>\n",
              "      <th>product_id</th>\n",
              "      <th>quantity</th>\n",
              "      <th>manager</th>\n",
              "      <th>date</th>\n",
              "      <th>client_id</th>\n",
              "      <th>status</th>\n",
              "      <th>name</th>\n",
              "      <th>price</th>\n",
              "      <th>category</th>\n",
              "      <th>currency_rate</th>\n",
              "      <th>price_rub</th>\n",
              "      <th>revenue</th>\n",
              "    </tr>\n",
              "  </thead>\n",
              "  <tbody>\n",
              "    <tr>\n",
              "      <th>0</th>\n",
              "      <td>UAKD-95751033</td>\n",
              "      <td>580</td>\n",
              "      <td>6</td>\n",
              "      <td>Ксения Балалайкина</td>\n",
              "      <td>2024-03-26</td>\n",
              "      <td>61</td>\n",
              "      <td>confirmed</td>\n",
              "      <td>JBL, PartyBox 300</td>\n",
              "      <td>440.53</td>\n",
              "      <td>Музыкальный центр</td>\n",
              "      <td>92.7761</td>\n",
              "      <td>40870.655333</td>\n",
              "      <td>2.452239e+05</td>\n",
              "    </tr>\n",
              "    <tr>\n",
              "      <th>1</th>\n",
              "      <td>UAKD-95751033</td>\n",
              "      <td>812</td>\n",
              "      <td>24</td>\n",
              "      <td>Ксения Балалайкина</td>\n",
              "      <td>2024-03-26</td>\n",
              "      <td>61</td>\n",
              "      <td>confirmed</td>\n",
              "      <td>Klipsch, Cinema 400</td>\n",
              "      <td>246.34</td>\n",
              "      <td>Саундбар</td>\n",
              "      <td>92.7761</td>\n",
              "      <td>22854.464474</td>\n",
              "      <td>5.485071e+05</td>\n",
              "    </tr>\n",
              "    <tr>\n",
              "      <th>2</th>\n",
              "      <td>UAKD-95751033</td>\n",
              "      <td>145</td>\n",
              "      <td>9</td>\n",
              "      <td>Ксения Балалайкина</td>\n",
              "      <td>2024-03-26</td>\n",
              "      <td>61</td>\n",
              "      <td>confirmed</td>\n",
              "      <td>Dali, Oberon 7 C</td>\n",
              "      <td>1640.45</td>\n",
              "      <td>Напольная акустика</td>\n",
              "      <td>92.7761</td>\n",
              "      <td>152194.553245</td>\n",
              "      <td>1.369751e+06</td>\n",
              "    </tr>\n",
              "    <tr>\n",
              "      <th>3</th>\n",
              "      <td>UAKD-95751033</td>\n",
              "      <td>194</td>\n",
              "      <td>6</td>\n",
              "      <td>Ксения Балалайкина</td>\n",
              "      <td>2024-03-26</td>\n",
              "      <td>61</td>\n",
              "      <td>confirmed</td>\n",
              "      <td>Dali, Oberon Vokal</td>\n",
              "      <td>462.20</td>\n",
              "      <td>Центральный канал</td>\n",
              "      <td>92.7761</td>\n",
              "      <td>42881.113420</td>\n",
              "      <td>2.572867e+05</td>\n",
              "    </tr>\n",
              "    <tr>\n",
              "      <th>4</th>\n",
              "      <td>UAKD-95751033</td>\n",
              "      <td>1086</td>\n",
              "      <td>3</td>\n",
              "      <td>Ксения Балалайкина</td>\n",
              "      <td>2024-03-26</td>\n",
              "      <td>61</td>\n",
              "      <td>confirmed</td>\n",
              "      <td>Pioneer, Elite VSX-LX503</td>\n",
              "      <td>879.52</td>\n",
              "      <td>AV-ресивер</td>\n",
              "      <td>92.7761</td>\n",
              "      <td>81598.435472</td>\n",
              "      <td>2.447953e+05</td>\n",
              "    </tr>\n",
              "    <tr>\n",
              "      <th>...</th>\n",
              "      <td>...</td>\n",
              "      <td>...</td>\n",
              "      <td>...</td>\n",
              "      <td>...</td>\n",
              "      <td>...</td>\n",
              "      <td>...</td>\n",
              "      <td>...</td>\n",
              "      <td>...</td>\n",
              "      <td>...</td>\n",
              "      <td>...</td>\n",
              "      <td>...</td>\n",
              "      <td>...</td>\n",
              "      <td>...</td>\n",
              "    </tr>\n",
              "    <tr>\n",
              "      <th>4598</th>\n",
              "      <td>HCNJ-19162518</td>\n",
              "      <td>556</td>\n",
              "      <td>24</td>\n",
              "      <td>Максим Барабанов</td>\n",
              "      <td>2024-03-08</td>\n",
              "      <td>54</td>\n",
              "      <td>confirmed</td>\n",
              "      <td>JBL, PartyBox 100</td>\n",
              "      <td>308.99</td>\n",
              "      <td>Беспроводная акустика</td>\n",
              "      <td>90.7493</td>\n",
              "      <td>28040.626207</td>\n",
              "      <td>6.729750e+05</td>\n",
              "    </tr>\n",
              "    <tr>\n",
              "      <th>4599</th>\n",
              "      <td>HCNJ-19162518</td>\n",
              "      <td>1594</td>\n",
              "      <td>10</td>\n",
              "      <td>Максим Барабанов</td>\n",
              "      <td>2024-03-08</td>\n",
              "      <td>54</td>\n",
              "      <td>confirmed</td>\n",
              "      <td>Yamaha, TW-E5A</td>\n",
              "      <td>170.30</td>\n",
              "      <td>Беспроводные наушники</td>\n",
              "      <td>90.7493</td>\n",
              "      <td>15454.605790</td>\n",
              "      <td>1.545461e+05</td>\n",
              "    </tr>\n",
              "    <tr>\n",
              "      <th>4600</th>\n",
              "      <td>HCNJ-19162518</td>\n",
              "      <td>520</td>\n",
              "      <td>5</td>\n",
              "      <td>Максим Барабанов</td>\n",
              "      <td>2024-03-08</td>\n",
              "      <td>54</td>\n",
              "      <td>confirmed</td>\n",
              "      <td>Heco, KaraFun 100</td>\n",
              "      <td>172.11</td>\n",
              "      <td>Система караоке</td>\n",
              "      <td>90.7493</td>\n",
              "      <td>15618.862023</td>\n",
              "      <td>7.809431e+04</td>\n",
              "    </tr>\n",
              "    <tr>\n",
              "      <th>4601</th>\n",
              "      <td>HCNJ-19162518</td>\n",
              "      <td>601</td>\n",
              "      <td>5</td>\n",
              "      <td>Максим Барабанов</td>\n",
              "      <td>2024-03-08</td>\n",
              "      <td>54</td>\n",
              "      <td>confirmed</td>\n",
              "      <td>JBL, Quantum 300</td>\n",
              "      <td>71.28</td>\n",
              "      <td>Наушники с микрофоном</td>\n",
              "      <td>90.7493</td>\n",
              "      <td>6468.610104</td>\n",
              "      <td>3.234305e+04</td>\n",
              "    </tr>\n",
              "    <tr>\n",
              "      <th>4602</th>\n",
              "      <td>HCNJ-19162518</td>\n",
              "      <td>1008</td>\n",
              "      <td>11</td>\n",
              "      <td>Максим Барабанов</td>\n",
              "      <td>2024-03-08</td>\n",
              "      <td>54</td>\n",
              "      <td>confirmed</td>\n",
              "      <td>Monitor Audio, Silver W12</td>\n",
              "      <td>672.37</td>\n",
              "      <td>Сабвуфер</td>\n",
              "      <td>90.7493</td>\n",
              "      <td>61017.106841</td>\n",
              "      <td>6.711882e+05</td>\n",
              "    </tr>\n",
              "  </tbody>\n",
              "</table>\n",
              "<p>4083 rows × 13 columns</p>\n",
              "</div>"
            ],
            "text/plain": [
              "           order_id  product_id  quantity             manager       date  \\\n",
              "0     UAKD-95751033         580         6  Ксения Балалайкина 2024-03-26   \n",
              "1     UAKD-95751033         812        24  Ксения Балалайкина 2024-03-26   \n",
              "2     UAKD-95751033         145         9  Ксения Балалайкина 2024-03-26   \n",
              "3     UAKD-95751033         194         6  Ксения Балалайкина 2024-03-26   \n",
              "4     UAKD-95751033        1086         3  Ксения Балалайкина 2024-03-26   \n",
              "...             ...         ...       ...                 ...        ...   \n",
              "4598  HCNJ-19162518         556        24    Максим Барабанов 2024-03-08   \n",
              "4599  HCNJ-19162518        1594        10    Максим Барабанов 2024-03-08   \n",
              "4600  HCNJ-19162518         520         5    Максим Барабанов 2024-03-08   \n",
              "4601  HCNJ-19162518         601         5    Максим Барабанов 2024-03-08   \n",
              "4602  HCNJ-19162518        1008        11    Максим Барабанов 2024-03-08   \n",
              "\n",
              "      client_id     status                       name    price  \\\n",
              "0            61  confirmed          JBL, PartyBox 300   440.53   \n",
              "1            61  confirmed        Klipsch, Cinema 400   246.34   \n",
              "2            61  confirmed           Dali, Oberon 7 C  1640.45   \n",
              "3            61  confirmed         Dali, Oberon Vokal   462.20   \n",
              "4            61  confirmed   Pioneer, Elite VSX-LX503   879.52   \n",
              "...         ...        ...                        ...      ...   \n",
              "4598         54  confirmed          JBL, PartyBox 100   308.99   \n",
              "4599         54  confirmed             Yamaha, TW-E5A   170.30   \n",
              "4600         54  confirmed          Heco, KaraFun 100   172.11   \n",
              "4601         54  confirmed           JBL, Quantum 300    71.28   \n",
              "4602         54  confirmed  Monitor Audio, Silver W12   672.37   \n",
              "\n",
              "                   category  currency_rate      price_rub       revenue  \n",
              "0         Музыкальный центр        92.7761   40870.655333  2.452239e+05  \n",
              "1                  Саундбар        92.7761   22854.464474  5.485071e+05  \n",
              "2        Напольная акустика        92.7761  152194.553245  1.369751e+06  \n",
              "3         Центральный канал        92.7761   42881.113420  2.572867e+05  \n",
              "4                AV-ресивер        92.7761   81598.435472  2.447953e+05  \n",
              "...                     ...            ...            ...           ...  \n",
              "4598  Беспроводная акустика        90.7493   28040.626207  6.729750e+05  \n",
              "4599  Беспроводные наушники        90.7493   15454.605790  1.545461e+05  \n",
              "4600        Система караоке        90.7493   15618.862023  7.809431e+04  \n",
              "4601  Наушники с микрофоном        90.7493    6468.610104  3.234305e+04  \n",
              "4602               Сабвуфер        90.7493   61017.106841  6.711882e+05  \n",
              "\n",
              "[4083 rows x 13 columns]"
            ]
          },
          "execution_count": 29,
          "metadata": {},
          "output_type": "execute_result"
        }
      ],
      "source": [
        "df_confirmed"
      ],
      "id": "FxeXWFsmefCi"
    },
    {
      "cell_type": "code",
      "execution_count": null,
      "metadata": {
        "id": "smPFAjqMefCi",
        "outputId": "ac8a5d75-b9f6-4f7c-d097-fa3a244051ee"
      },
      "outputs": [
        {
          "data": {
            "text/html": [
              "<div>\n",
              "<style scoped>\n",
              "    .dataframe tbody tr th:only-of-type {\n",
              "        vertical-align: middle;\n",
              "    }\n",
              "\n",
              "    .dataframe tbody tr th {\n",
              "        vertical-align: top;\n",
              "    }\n",
              "\n",
              "    .dataframe thead th {\n",
              "        text-align: right;\n",
              "    }\n",
              "</style>\n",
              "<table border=\"1\" class=\"dataframe\">\n",
              "  <thead>\n",
              "    <tr style=\"text-align: right;\">\n",
              "      <th></th>\n",
              "      <th>manager</th>\n",
              "      <th>revenue</th>\n",
              "      <th>orders</th>\n",
              "      <th>percent_revenue</th>\n",
              "      <th>percent_orders</th>\n",
              "    </tr>\n",
              "  </thead>\n",
              "  <tbody>\n",
              "    <tr>\n",
              "      <th>9</th>\n",
              "      <td>Маргарита Камертонова</td>\n",
              "      <td>3.473886e+08</td>\n",
              "      <td>48</td>\n",
              "      <td>17.04</td>\n",
              "      <td>15.53</td>\n",
              "    </tr>\n",
              "    <tr>\n",
              "      <th>4</th>\n",
              "      <td>Виктор Тромбонов</td>\n",
              "      <td>3.188999e+08</td>\n",
              "      <td>50</td>\n",
              "      <td>15.65</td>\n",
              "      <td>16.18</td>\n",
              "    </tr>\n",
              "    <tr>\n",
              "      <th>8</th>\n",
              "      <td>Максим Барабанов</td>\n",
              "      <td>2.401478e+08</td>\n",
              "      <td>40</td>\n",
              "      <td>11.78</td>\n",
              "      <td>12.94</td>\n",
              "    </tr>\n",
              "    <tr>\n",
              "      <th>5</th>\n",
              "      <td>Владимир Ударников</td>\n",
              "      <td>2.084865e+08</td>\n",
              "      <td>31</td>\n",
              "      <td>10.23</td>\n",
              "      <td>10.03</td>\n",
              "    </tr>\n",
              "    <tr>\n",
              "      <th>0</th>\n",
              "      <td>Алексей Саксофонов</td>\n",
              "      <td>1.953435e+08</td>\n",
              "      <td>27</td>\n",
              "      <td>9.58</td>\n",
              "      <td>8.74</td>\n",
              "    </tr>\n",
              "    <tr>\n",
              "      <th>7</th>\n",
              "      <td>Ксения Балалайкина</td>\n",
              "      <td>1.817621e+08</td>\n",
              "      <td>27</td>\n",
              "      <td>8.92</td>\n",
              "      <td>8.74</td>\n",
              "    </tr>\n",
              "    <tr>\n",
              "      <th>6</th>\n",
              "      <td>Екатерина Тарелкина</td>\n",
              "      <td>1.781576e+08</td>\n",
              "      <td>28</td>\n",
              "      <td>8.74</td>\n",
              "      <td>9.06</td>\n",
              "    </tr>\n",
              "    <tr>\n",
              "      <th>10</th>\n",
              "      <td>Надежда Гармошкина</td>\n",
              "      <td>1.347836e+08</td>\n",
              "      <td>21</td>\n",
              "      <td>6.61</td>\n",
              "      <td>6.80</td>\n",
              "    </tr>\n",
              "    <tr>\n",
              "      <th>1</th>\n",
              "      <td>Анастасия Дудкина</td>\n",
              "      <td>1.234504e+08</td>\n",
              "      <td>20</td>\n",
              "      <td>6.06</td>\n",
              "      <td>6.47</td>\n",
              "    </tr>\n",
              "    <tr>\n",
              "      <th>2</th>\n",
              "      <td>Антон Скрипкин</td>\n",
              "      <td>5.150268e+07</td>\n",
              "      <td>7</td>\n",
              "      <td>2.53</td>\n",
              "      <td>2.27</td>\n",
              "    </tr>\n",
              "    <tr>\n",
              "      <th>3</th>\n",
              "      <td>Аркадий Октавин</td>\n",
              "      <td>2.973678e+07</td>\n",
              "      <td>5</td>\n",
              "      <td>1.46</td>\n",
              "      <td>1.62</td>\n",
              "    </tr>\n",
              "    <tr>\n",
              "      <th>11</th>\n",
              "      <td>Сергей Контрабасов</td>\n",
              "      <td>2.857223e+07</td>\n",
              "      <td>5</td>\n",
              "      <td>1.40</td>\n",
              "      <td>1.62</td>\n",
              "    </tr>\n",
              "  </tbody>\n",
              "</table>\n",
              "</div>"
            ],
            "text/plain": [
              "                  manager       revenue  orders  percent_revenue  \\\n",
              "9   Маргарита Камертонова  3.473886e+08      48            17.04   \n",
              "4        Виктор Тромбонов  3.188999e+08      50            15.65   \n",
              "8        Максим Барабанов  2.401478e+08      40            11.78   \n",
              "5      Владимир Ударников  2.084865e+08      31            10.23   \n",
              "0      Алексей Саксофонов  1.953435e+08      27             9.58   \n",
              "7      Ксения Балалайкина  1.817621e+08      27             8.92   \n",
              "6     Екатерина Тарелкина  1.781576e+08      28             8.74   \n",
              "10     Надежда Гармошкина  1.347836e+08      21             6.61   \n",
              "1       Анастасия Дудкина  1.234504e+08      20             6.06   \n",
              "2          Антон Скрипкин  5.150268e+07       7             2.53   \n",
              "3         Аркадий Октавин  2.973678e+07       5             1.46   \n",
              "11     Сергей Контрабасов  2.857223e+07       5             1.40   \n",
              "\n",
              "    percent_orders  \n",
              "9            15.53  \n",
              "4            16.18  \n",
              "8            12.94  \n",
              "5            10.03  \n",
              "0             8.74  \n",
              "7             8.74  \n",
              "6             9.06  \n",
              "10            6.80  \n",
              "1             6.47  \n",
              "2             2.27  \n",
              "3             1.62  \n",
              "11            1.62  "
            ]
          },
          "execution_count": 30,
          "metadata": {},
          "output_type": "execute_result"
        }
      ],
      "source": [
        "managers = df_confirmed.query('status == \"confirmed\"') \\\n",
        "                       .groupby('manager', as_index=False) \\\n",
        "                       .agg({'revenue':'sum', 'order_id':'nunique'}) \\\n",
        "                       .rename(columns={'order_id':'orders'}) \\\n",
        "                       .sort_values('revenue', ascending=False)\n",
        "sum_revenue = managers.revenue.sum()\n",
        "sum_orders = managers.orders.sum()\n",
        "managers['percent_revenue'] = ((managers.revenue / sum_revenue) * 100).round(2)\n",
        "managers['percent_orders'] = ((managers.orders / sum_orders) * 100).round(2)\n",
        "managers"
      ],
      "id": "smPFAjqMefCi"
    },
    {
      "cell_type": "code",
      "execution_count": null,
      "metadata": {
        "id": "v40cKG9_efCi",
        "outputId": "80a2ecc5-9fed-47b1-f9c5-8e10e0ad1cdb"
      },
      "outputs": [
        {
          "data": {
            "text/plain": [
              "(array([ 0,  1,  2,  3,  4,  5,  6,  7,  8,  9, 10, 11]),\n",
              " <a list of 12 Text major ticklabel objects>)"
            ]
          },
          "execution_count": 32,
          "metadata": {},
          "output_type": "execute_result"
        },
        {
          "data": {
            "image/png": "[encoded data removed]",
            "text/plain": [
              "<Figure size 432x288 with 1 Axes>"
            ]
          },
          "metadata": {
            "needs_background": "light"
          },
          "output_type": "display_data"
        }
      ],
      "source": [
        "sns.barplot(x = managers.manager, y = managers.percent_revenue)\n",
        "plt.xticks(rotation=45)"
      ],
      "id": "v40cKG9_efCi"
    },
    {
      "cell_type": "code",
      "execution_count": null,
      "metadata": {
        "id": "8VFuqe3qefCi",
        "outputId": "93d2f3c4-7c40-48c8-a0ad-75b950a038ad"
      },
      "outputs": [
        {
          "data": {
            "text/plain": [
              "(array([ 0,  1,  2,  3,  4,  5,  6,  7,  8,  9, 10, 11]),\n",
              " <a list of 12 Text major ticklabel objects>)"
            ]
          },
          "execution_count": 33,
          "metadata": {},
          "output_type": "execute_result"
        },
        {
          "data": {
            "image/png": "[encoded data removed]",
            "text/plain": [
              "<Figure size 432x288 with 1 Axes>"
            ]
          },
          "metadata": {
            "needs_background": "light"
          },
          "output_type": "display_data"
        }
      ],
      "source": [
        "sns.barplot(x = managers.manager, y = managers.percent_orders)\n",
        "plt.xticks(rotation=45)"
      ],
      "id": "8VFuqe3qefCi"
    },
    {
      "cell_type": "markdown",
      "metadata": {
        "id": "4XuusyWuefCi"
      },
      "source": [
        "**Ответы:**\n",
        "- **лучшим менеджером по % выручки стала Маргарита Камертонова**\n",
        "- **в этом месяце нельзя выделить явную пятерку лидеров по % выручки, которые сильно оторвались от остальных**\n",
        "- **лидер по % заказов реализовал более 16% заказов**\n",
        "- **наихудшие показатели у Сергея Контрабасова**\n",
        "- **Антон Скрипкин реализовал почти в 3 раза меньше заказов, чем Анастасия Дудкина**"
      ],
      "id": "4XuusyWuefCi"
    },
    {
      "cell_type": "markdown",
      "metadata": {
        "id": "SC_DAjy9efCi"
      },
      "source": [
        "## Итоги"
      ],
      "id": "SC_DAjy9efCi"
    },
    {
      "cell_type": "markdown",
      "metadata": {
        "id": "WxLpXGMUefCj"
      },
      "source": [
        "В данном проекте мы проанализировали продажи музыкальных товаров: собрали данные, посчитали ключевые метрики в динамике; определили дни, которые выбиваются из общей картины, и выяснили причину этого; нашли наиболее прибыльные бренды и те, которые зря занимают место на виртуальной «полке»."
      ],
      "id": "WxLpXGMUefCj"
    }
  ],
  "metadata": {
    "kernelspec": {
      "display_name": "Python 3",
      "language": "python",
      "name": "python3"
    },
    "language_info": {
      "codemirror_mode": {
        "name": "ipython",
        "version": 3
      },
      "file_extension": ".py",
      "mimetype": "text/x-python",
      "name": "python",
      "nbconvert_exporter": "python",
      "pygments_lexer": "ipython3",
      "version": "3.7.3"
    },
    "colab": {
      "provenance": []
    }
  },
  "nbformat": 4,
  "nbformat_minor": 5
}